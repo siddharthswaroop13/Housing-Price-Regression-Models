{
 "cells": [
  {
   "cell_type": "code",
   "execution_count": 1,
   "metadata": {
    "_cell_guid": "b1076dfc-b9ad-4769-8c92-a6c4dae69d19",
    "_uuid": "8f2839f25d086af736a60e9eeb907d3b93b6e0e5",
    "execution": {
     "iopub.execute_input": "2020-11-15T18:55:44.087149Z",
     "iopub.status.busy": "2020-11-15T18:55:44.086286Z",
     "iopub.status.idle": "2020-11-15T18:55:44.094280Z",
     "shell.execute_reply": "2020-11-15T18:55:44.093537Z"
    },
    "papermill": {
     "duration": 0.068083,
     "end_time": "2020-11-15T18:55:44.094408",
     "exception": false,
     "start_time": "2020-11-15T18:55:44.026325",
     "status": "completed"
    },
    "tags": []
   },
   "outputs": [
    {
     "name": "stdout",
     "output_type": "stream",
     "text": [
      "/kaggle/input/usa-housing/USA_Housing.csv\n"
     ]
    }
   ],
   "source": [
    "# This Python 3 environment comes with many helpful analytics libraries installed\n",
    "# It is defined by the kaggle/python Docker image: https://github.com/kaggle/docker-python\n",
    "# For example, here's several helpful packages to load\n",
    "\n",
    "import numpy as np # linear algebra\n",
    "import pandas as pd # data processing, CSV file I/O (e.g. pd.read_csv)\n",
    "\n",
    "# Input data files are available in the read-only \"../input/\" directory\n",
    "# For example, running this (by clicking run or pressing Shift+Enter) will list all files under the input directory\n",
    "\n",
    "import os\n",
    "for dirname, _, filenames in os.walk('/kaggle/input'):\n",
    "    for filename in filenames:\n",
    "        print(os.path.join(dirname, filename))\n",
    "\n",
    "# You can write up to 20GB to the current directory (/kaggle/working/) that gets preserved as output when you create a version using \"Save & Run All\" \n",
    "# You can also write temporary files to /kaggle/temp/, but they won't be saved outside of the current session"
   ]
  },
  {
   "cell_type": "code",
   "execution_count": 2,
   "metadata": {
    "_cell_guid": "79c7e3d0-c299-4dcb-8224-4455121ee9b0",
    "_uuid": "d629ff2d2480ee46fbb7e2d37f6b5fab8052498a",
    "execution": {
     "iopub.execute_input": "2020-11-15T18:55:44.204589Z",
     "iopub.status.busy": "2020-11-15T18:55:44.203735Z",
     "iopub.status.idle": "2020-11-15T18:55:45.360352Z",
     "shell.execute_reply": "2020-11-15T18:55:45.359534Z"
    },
    "papermill": {
     "duration": 1.21472,
     "end_time": "2020-11-15T18:55:45.360486",
     "exception": false,
     "start_time": "2020-11-15T18:55:44.145766",
     "status": "completed"
    },
    "tags": []
   },
   "outputs": [],
   "source": [
    "import pandas as pd\n",
    "import numpy as np\n",
    "import matplotlib.pyplot as plt\n",
    "import seaborn as sns\n",
    "%matplotlib inline\n",
    "\n",
    "sns.set_style(\"whitegrid\")\n",
    "plt.style.use(\"fivethirtyeight\")"
   ]
  },
  {
   "cell_type": "markdown",
   "metadata": {
    "papermill": {
     "duration": 0.051014,
     "end_time": "2020-11-15T18:55:45.462512",
     "exception": false,
     "start_time": "2020-11-15T18:55:45.411498",
     "status": "completed"
    },
    "tags": []
   },
   "source": [
    "# Checking Out the Data Statistically"
   ]
  },
  {
   "cell_type": "code",
   "execution_count": 3,
   "metadata": {
    "execution": {
     "iopub.execute_input": "2020-11-15T18:55:45.569222Z",
     "iopub.status.busy": "2020-11-15T18:55:45.568446Z",
     "iopub.status.idle": "2020-11-15T18:55:45.620200Z",
     "shell.execute_reply": "2020-11-15T18:55:45.619441Z"
    },
    "papermill": {
     "duration": 0.107624,
     "end_time": "2020-11-15T18:55:45.620327",
     "exception": false,
     "start_time": "2020-11-15T18:55:45.512703",
     "status": "completed"
    },
    "tags": []
   },
   "outputs": [
    {
     "data": {
      "text/html": [
       "<div>\n",
       "<style scoped>\n",
       "    .dataframe tbody tr th:only-of-type {\n",
       "        vertical-align: middle;\n",
       "    }\n",
       "\n",
       "    .dataframe tbody tr th {\n",
       "        vertical-align: top;\n",
       "    }\n",
       "\n",
       "    .dataframe thead th {\n",
       "        text-align: right;\n",
       "    }\n",
       "</style>\n",
       "<table border=\"1\" class=\"dataframe\">\n",
       "  <thead>\n",
       "    <tr style=\"text-align: right;\">\n",
       "      <th></th>\n",
       "      <th>Avg. Area Income</th>\n",
       "      <th>Avg. Area House Age</th>\n",
       "      <th>Avg. Area Number of Rooms</th>\n",
       "      <th>Avg. Area Number of Bedrooms</th>\n",
       "      <th>Area Population</th>\n",
       "      <th>Price</th>\n",
       "      <th>Address</th>\n",
       "    </tr>\n",
       "  </thead>\n",
       "  <tbody>\n",
       "    <tr>\n",
       "      <th>0</th>\n",
       "      <td>79545.458574</td>\n",
       "      <td>5.682861</td>\n",
       "      <td>7.009188</td>\n",
       "      <td>4.09</td>\n",
       "      <td>23086.800503</td>\n",
       "      <td>1.059034e+06</td>\n",
       "      <td>208 Michael Ferry Apt. 674\\nLaurabury, NE 3701...</td>\n",
       "    </tr>\n",
       "    <tr>\n",
       "      <th>1</th>\n",
       "      <td>79248.642455</td>\n",
       "      <td>6.002900</td>\n",
       "      <td>6.730821</td>\n",
       "      <td>3.09</td>\n",
       "      <td>40173.072174</td>\n",
       "      <td>1.505891e+06</td>\n",
       "      <td>188 Johnson Views Suite 079\\nLake Kathleen, CA...</td>\n",
       "    </tr>\n",
       "    <tr>\n",
       "      <th>2</th>\n",
       "      <td>61287.067179</td>\n",
       "      <td>5.865890</td>\n",
       "      <td>8.512727</td>\n",
       "      <td>5.13</td>\n",
       "      <td>36882.159400</td>\n",
       "      <td>1.058988e+06</td>\n",
       "      <td>9127 Elizabeth Stravenue\\nDanieltown, WI 06482...</td>\n",
       "    </tr>\n",
       "    <tr>\n",
       "      <th>3</th>\n",
       "      <td>63345.240046</td>\n",
       "      <td>7.188236</td>\n",
       "      <td>5.586729</td>\n",
       "      <td>3.26</td>\n",
       "      <td>34310.242831</td>\n",
       "      <td>1.260617e+06</td>\n",
       "      <td>USS Barnett\\nFPO AP 44820</td>\n",
       "    </tr>\n",
       "    <tr>\n",
       "      <th>4</th>\n",
       "      <td>59982.197226</td>\n",
       "      <td>5.040555</td>\n",
       "      <td>7.839388</td>\n",
       "      <td>4.23</td>\n",
       "      <td>26354.109472</td>\n",
       "      <td>6.309435e+05</td>\n",
       "      <td>USNS Raymond\\nFPO AE 09386</td>\n",
       "    </tr>\n",
       "  </tbody>\n",
       "</table>\n",
       "</div>"
      ],
      "text/plain": [
       "   Avg. Area Income  Avg. Area House Age  Avg. Area Number of Rooms  \\\n",
       "0      79545.458574             5.682861                   7.009188   \n",
       "1      79248.642455             6.002900                   6.730821   \n",
       "2      61287.067179             5.865890                   8.512727   \n",
       "3      63345.240046             7.188236                   5.586729   \n",
       "4      59982.197226             5.040555                   7.839388   \n",
       "\n",
       "   Avg. Area Number of Bedrooms  Area Population         Price  \\\n",
       "0                          4.09     23086.800503  1.059034e+06   \n",
       "1                          3.09     40173.072174  1.505891e+06   \n",
       "2                          5.13     36882.159400  1.058988e+06   \n",
       "3                          3.26     34310.242831  1.260617e+06   \n",
       "4                          4.23     26354.109472  6.309435e+05   \n",
       "\n",
       "                                             Address  \n",
       "0  208 Michael Ferry Apt. 674\\nLaurabury, NE 3701...  \n",
       "1  188 Johnson Views Suite 079\\nLake Kathleen, CA...  \n",
       "2  9127 Elizabeth Stravenue\\nDanieltown, WI 06482...  \n",
       "3                          USS Barnett\\nFPO AP 44820  \n",
       "4                         USNS Raymond\\nFPO AE 09386  "
      ]
     },
     "execution_count": 3,
     "metadata": {},
     "output_type": "execute_result"
    }
   ],
   "source": [
    "housing = pd.read_csv('/kaggle/input/usa-housing/USA_Housing.csv')\n",
    "housing.head()"
   ]
  },
  {
   "cell_type": "code",
   "execution_count": 4,
   "metadata": {
    "execution": {
     "iopub.execute_input": "2020-11-15T18:55:45.737129Z",
     "iopub.status.busy": "2020-11-15T18:55:45.730672Z",
     "iopub.status.idle": "2020-11-15T18:55:45.744949Z",
     "shell.execute_reply": "2020-11-15T18:55:45.743995Z"
    },
    "papermill": {
     "duration": 0.073405,
     "end_time": "2020-11-15T18:55:45.745112",
     "exception": false,
     "start_time": "2020-11-15T18:55:45.671707",
     "status": "completed"
    },
    "tags": []
   },
   "outputs": [
    {
     "name": "stdout",
     "output_type": "stream",
     "text": [
      "<class 'pandas.core.frame.DataFrame'>\n",
      "RangeIndex: 5000 entries, 0 to 4999\n",
      "Data columns (total 7 columns):\n",
      " #   Column                        Non-Null Count  Dtype  \n",
      "---  ------                        --------------  -----  \n",
      " 0   Avg. Area Income              5000 non-null   float64\n",
      " 1   Avg. Area House Age           5000 non-null   float64\n",
      " 2   Avg. Area Number of Rooms     5000 non-null   float64\n",
      " 3   Avg. Area Number of Bedrooms  5000 non-null   float64\n",
      " 4   Area Population               5000 non-null   float64\n",
      " 5   Price                         5000 non-null   float64\n",
      " 6   Address                       5000 non-null   object \n",
      "dtypes: float64(6), object(1)\n",
      "memory usage: 273.6+ KB\n"
     ]
    }
   ],
   "source": [
    "housing.info()"
   ]
  },
  {
   "cell_type": "code",
   "execution_count": 5,
   "metadata": {
    "execution": {
     "iopub.execute_input": "2020-11-15T18:55:45.857143Z",
     "iopub.status.busy": "2020-11-15T18:55:45.856262Z",
     "iopub.status.idle": "2020-11-15T18:55:45.860887Z",
     "shell.execute_reply": "2020-11-15T18:55:45.860103Z"
    },
    "papermill": {
     "duration": 0.063078,
     "end_time": "2020-11-15T18:55:45.861017",
     "exception": false,
     "start_time": "2020-11-15T18:55:45.797939",
     "status": "completed"
    },
    "tags": []
   },
   "outputs": [
    {
     "data": {
      "text/plain": [
       "(5000, 7)"
      ]
     },
     "execution_count": 5,
     "metadata": {},
     "output_type": "execute_result"
    }
   ],
   "source": [
    "# Shape/Size of the data\n",
    "\n",
    "housing.shape"
   ]
  },
  {
   "cell_type": "code",
   "execution_count": 6,
   "metadata": {
    "execution": {
     "iopub.execute_input": "2020-11-15T18:55:45.975208Z",
     "iopub.status.busy": "2020-11-15T18:55:45.974335Z",
     "iopub.status.idle": "2020-11-15T18:55:46.006066Z",
     "shell.execute_reply": "2020-11-15T18:55:46.005196Z"
    },
    "papermill": {
     "duration": 0.092835,
     "end_time": "2020-11-15T18:55:46.006214",
     "exception": false,
     "start_time": "2020-11-15T18:55:45.913379",
     "status": "completed"
    },
    "tags": []
   },
   "outputs": [
    {
     "data": {
      "text/html": [
       "<div>\n",
       "<style scoped>\n",
       "    .dataframe tbody tr th:only-of-type {\n",
       "        vertical-align: middle;\n",
       "    }\n",
       "\n",
       "    .dataframe tbody tr th {\n",
       "        vertical-align: top;\n",
       "    }\n",
       "\n",
       "    .dataframe thead th {\n",
       "        text-align: right;\n",
       "    }\n",
       "</style>\n",
       "<table border=\"1\" class=\"dataframe\">\n",
       "  <thead>\n",
       "    <tr style=\"text-align: right;\">\n",
       "      <th></th>\n",
       "      <th>Avg. Area Income</th>\n",
       "      <th>Avg. Area House Age</th>\n",
       "      <th>Avg. Area Number of Rooms</th>\n",
       "      <th>Avg. Area Number of Bedrooms</th>\n",
       "      <th>Area Population</th>\n",
       "      <th>Price</th>\n",
       "    </tr>\n",
       "  </thead>\n",
       "  <tbody>\n",
       "    <tr>\n",
       "      <th>count</th>\n",
       "      <td>5000.000000</td>\n",
       "      <td>5000.000000</td>\n",
       "      <td>5000.000000</td>\n",
       "      <td>5000.000000</td>\n",
       "      <td>5000.000000</td>\n",
       "      <td>5.000000e+03</td>\n",
       "    </tr>\n",
       "    <tr>\n",
       "      <th>mean</th>\n",
       "      <td>68583.108984</td>\n",
       "      <td>5.977222</td>\n",
       "      <td>6.987792</td>\n",
       "      <td>3.981330</td>\n",
       "      <td>36163.516039</td>\n",
       "      <td>1.232073e+06</td>\n",
       "    </tr>\n",
       "    <tr>\n",
       "      <th>std</th>\n",
       "      <td>10657.991214</td>\n",
       "      <td>0.991456</td>\n",
       "      <td>1.005833</td>\n",
       "      <td>1.234137</td>\n",
       "      <td>9925.650114</td>\n",
       "      <td>3.531176e+05</td>\n",
       "    </tr>\n",
       "    <tr>\n",
       "      <th>min</th>\n",
       "      <td>17796.631190</td>\n",
       "      <td>2.644304</td>\n",
       "      <td>3.236194</td>\n",
       "      <td>2.000000</td>\n",
       "      <td>172.610686</td>\n",
       "      <td>1.593866e+04</td>\n",
       "    </tr>\n",
       "    <tr>\n",
       "      <th>25%</th>\n",
       "      <td>61480.562388</td>\n",
       "      <td>5.322283</td>\n",
       "      <td>6.299250</td>\n",
       "      <td>3.140000</td>\n",
       "      <td>29403.928702</td>\n",
       "      <td>9.975771e+05</td>\n",
       "    </tr>\n",
       "    <tr>\n",
       "      <th>50%</th>\n",
       "      <td>68804.286404</td>\n",
       "      <td>5.970429</td>\n",
       "      <td>7.002902</td>\n",
       "      <td>4.050000</td>\n",
       "      <td>36199.406689</td>\n",
       "      <td>1.232669e+06</td>\n",
       "    </tr>\n",
       "    <tr>\n",
       "      <th>75%</th>\n",
       "      <td>75783.338666</td>\n",
       "      <td>6.650808</td>\n",
       "      <td>7.665871</td>\n",
       "      <td>4.490000</td>\n",
       "      <td>42861.290769</td>\n",
       "      <td>1.471210e+06</td>\n",
       "    </tr>\n",
       "    <tr>\n",
       "      <th>max</th>\n",
       "      <td>107701.748378</td>\n",
       "      <td>9.519088</td>\n",
       "      <td>10.759588</td>\n",
       "      <td>6.500000</td>\n",
       "      <td>69621.713378</td>\n",
       "      <td>2.469066e+06</td>\n",
       "    </tr>\n",
       "  </tbody>\n",
       "</table>\n",
       "</div>"
      ],
      "text/plain": [
       "       Avg. Area Income  Avg. Area House Age  Avg. Area Number of Rooms  \\\n",
       "count       5000.000000          5000.000000                5000.000000   \n",
       "mean       68583.108984             5.977222                   6.987792   \n",
       "std        10657.991214             0.991456                   1.005833   \n",
       "min        17796.631190             2.644304                   3.236194   \n",
       "25%        61480.562388             5.322283                   6.299250   \n",
       "50%        68804.286404             5.970429                   7.002902   \n",
       "75%        75783.338666             6.650808                   7.665871   \n",
       "max       107701.748378             9.519088                  10.759588   \n",
       "\n",
       "       Avg. Area Number of Bedrooms  Area Population         Price  \n",
       "count                   5000.000000      5000.000000  5.000000e+03  \n",
       "mean                       3.981330     36163.516039  1.232073e+06  \n",
       "std                        1.234137      9925.650114  3.531176e+05  \n",
       "min                        2.000000       172.610686  1.593866e+04  \n",
       "25%                        3.140000     29403.928702  9.975771e+05  \n",
       "50%                        4.050000     36199.406689  1.232669e+06  \n",
       "75%                        4.490000     42861.290769  1.471210e+06  \n",
       "max                        6.500000     69621.713378  2.469066e+06  "
      ]
     },
     "execution_count": 6,
     "metadata": {},
     "output_type": "execute_result"
    }
   ],
   "source": [
    "housing.describe()"
   ]
  },
  {
   "cell_type": "markdown",
   "metadata": {
    "papermill": {
     "duration": 0.054268,
     "end_time": "2020-11-15T18:55:46.114950",
     "exception": false,
     "start_time": "2020-11-15T18:55:46.060682",
     "status": "completed"
    },
    "tags": []
   },
   "source": [
    "- lets see if there is any null/missing values in the datasets or not. It's important to remove or\n",
    "- replace all the missing values before moving further."
   ]
  },
  {
   "cell_type": "code",
   "execution_count": 7,
   "metadata": {
    "execution": {
     "iopub.execute_input": "2020-11-15T18:55:46.245775Z",
     "iopub.status.busy": "2020-11-15T18:55:46.244936Z",
     "iopub.status.idle": "2020-11-15T18:55:46.250394Z",
     "shell.execute_reply": "2020-11-15T18:55:46.249778Z"
    },
    "papermill": {
     "duration": 0.080591,
     "end_time": "2020-11-15T18:55:46.250529",
     "exception": false,
     "start_time": "2020-11-15T18:55:46.169938",
     "status": "completed"
    },
    "tags": []
   },
   "outputs": [
    {
     "data": {
      "text/html": [
       "<div>\n",
       "<style scoped>\n",
       "    .dataframe tbody tr th:only-of-type {\n",
       "        vertical-align: middle;\n",
       "    }\n",
       "\n",
       "    .dataframe tbody tr th {\n",
       "        vertical-align: top;\n",
       "    }\n",
       "\n",
       "    .dataframe thead th {\n",
       "        text-align: right;\n",
       "    }\n",
       "</style>\n",
       "<table border=\"1\" class=\"dataframe\">\n",
       "  <thead>\n",
       "    <tr style=\"text-align: right;\">\n",
       "      <th></th>\n",
       "      <th>Avg. Area Income</th>\n",
       "      <th>Avg. Area House Age</th>\n",
       "      <th>Avg. Area Number of Rooms</th>\n",
       "      <th>Avg. Area Number of Bedrooms</th>\n",
       "      <th>Area Population</th>\n",
       "      <th>Price</th>\n",
       "      <th>Address</th>\n",
       "    </tr>\n",
       "  </thead>\n",
       "  <tbody>\n",
       "    <tr>\n",
       "      <th>0</th>\n",
       "      <td>False</td>\n",
       "      <td>False</td>\n",
       "      <td>False</td>\n",
       "      <td>False</td>\n",
       "      <td>False</td>\n",
       "      <td>False</td>\n",
       "      <td>False</td>\n",
       "    </tr>\n",
       "    <tr>\n",
       "      <th>1</th>\n",
       "      <td>False</td>\n",
       "      <td>False</td>\n",
       "      <td>False</td>\n",
       "      <td>False</td>\n",
       "      <td>False</td>\n",
       "      <td>False</td>\n",
       "      <td>False</td>\n",
       "    </tr>\n",
       "    <tr>\n",
       "      <th>2</th>\n",
       "      <td>False</td>\n",
       "      <td>False</td>\n",
       "      <td>False</td>\n",
       "      <td>False</td>\n",
       "      <td>False</td>\n",
       "      <td>False</td>\n",
       "      <td>False</td>\n",
       "    </tr>\n",
       "    <tr>\n",
       "      <th>3</th>\n",
       "      <td>False</td>\n",
       "      <td>False</td>\n",
       "      <td>False</td>\n",
       "      <td>False</td>\n",
       "      <td>False</td>\n",
       "      <td>False</td>\n",
       "      <td>False</td>\n",
       "    </tr>\n",
       "    <tr>\n",
       "      <th>4</th>\n",
       "      <td>False</td>\n",
       "      <td>False</td>\n",
       "      <td>False</td>\n",
       "      <td>False</td>\n",
       "      <td>False</td>\n",
       "      <td>False</td>\n",
       "      <td>False</td>\n",
       "    </tr>\n",
       "    <tr>\n",
       "      <th>...</th>\n",
       "      <td>...</td>\n",
       "      <td>...</td>\n",
       "      <td>...</td>\n",
       "      <td>...</td>\n",
       "      <td>...</td>\n",
       "      <td>...</td>\n",
       "      <td>...</td>\n",
       "    </tr>\n",
       "    <tr>\n",
       "      <th>4995</th>\n",
       "      <td>False</td>\n",
       "      <td>False</td>\n",
       "      <td>False</td>\n",
       "      <td>False</td>\n",
       "      <td>False</td>\n",
       "      <td>False</td>\n",
       "      <td>False</td>\n",
       "    </tr>\n",
       "    <tr>\n",
       "      <th>4996</th>\n",
       "      <td>False</td>\n",
       "      <td>False</td>\n",
       "      <td>False</td>\n",
       "      <td>False</td>\n",
       "      <td>False</td>\n",
       "      <td>False</td>\n",
       "      <td>False</td>\n",
       "    </tr>\n",
       "    <tr>\n",
       "      <th>4997</th>\n",
       "      <td>False</td>\n",
       "      <td>False</td>\n",
       "      <td>False</td>\n",
       "      <td>False</td>\n",
       "      <td>False</td>\n",
       "      <td>False</td>\n",
       "      <td>False</td>\n",
       "    </tr>\n",
       "    <tr>\n",
       "      <th>4998</th>\n",
       "      <td>False</td>\n",
       "      <td>False</td>\n",
       "      <td>False</td>\n",
       "      <td>False</td>\n",
       "      <td>False</td>\n",
       "      <td>False</td>\n",
       "      <td>False</td>\n",
       "    </tr>\n",
       "    <tr>\n",
       "      <th>4999</th>\n",
       "      <td>False</td>\n",
       "      <td>False</td>\n",
       "      <td>False</td>\n",
       "      <td>False</td>\n",
       "      <td>False</td>\n",
       "      <td>False</td>\n",
       "      <td>False</td>\n",
       "    </tr>\n",
       "  </tbody>\n",
       "</table>\n",
       "<p>5000 rows × 7 columns</p>\n",
       "</div>"
      ],
      "text/plain": [
       "      Avg. Area Income  Avg. Area House Age  Avg. Area Number of Rooms  \\\n",
       "0                False                False                      False   \n",
       "1                False                False                      False   \n",
       "2                False                False                      False   \n",
       "3                False                False                      False   \n",
       "4                False                False                      False   \n",
       "...                ...                  ...                        ...   \n",
       "4995             False                False                      False   \n",
       "4996             False                False                      False   \n",
       "4997             False                False                      False   \n",
       "4998             False                False                      False   \n",
       "4999             False                False                      False   \n",
       "\n",
       "      Avg. Area Number of Bedrooms  Area Population  Price  Address  \n",
       "0                            False            False  False    False  \n",
       "1                            False            False  False    False  \n",
       "2                            False            False  False    False  \n",
       "3                            False            False  False    False  \n",
       "4                            False            False  False    False  \n",
       "...                            ...              ...    ...      ...  \n",
       "4995                         False            False  False    False  \n",
       "4996                         False            False  False    False  \n",
       "4997                         False            False  False    False  \n",
       "4998                         False            False  False    False  \n",
       "4999                         False            False  False    False  \n",
       "\n",
       "[5000 rows x 7 columns]"
      ]
     },
     "execution_count": 7,
     "metadata": {},
     "output_type": "execute_result"
    }
   ],
   "source": [
    "housing.isnull()"
   ]
  },
  {
   "cell_type": "markdown",
   "metadata": {
    "papermill": {
     "duration": 0.053401,
     "end_time": "2020-11-15T18:55:46.357915",
     "exception": false,
     "start_time": "2020-11-15T18:55:46.304514",
     "status": "completed"
    },
    "tags": []
   },
   "source": [
    "- Checking different column names"
   ]
  },
  {
   "cell_type": "code",
   "execution_count": 8,
   "metadata": {
    "execution": {
     "iopub.execute_input": "2020-11-15T18:55:46.475185Z",
     "iopub.status.busy": "2020-11-15T18:55:46.474434Z",
     "iopub.status.idle": "2020-11-15T18:55:46.480740Z",
     "shell.execute_reply": "2020-11-15T18:55:46.479980Z"
    },
    "papermill": {
     "duration": 0.067548,
     "end_time": "2020-11-15T18:55:46.480891",
     "exception": false,
     "start_time": "2020-11-15T18:55:46.413343",
     "status": "completed"
    },
    "tags": []
   },
   "outputs": [
    {
     "data": {
      "text/plain": [
       "Index(['Avg. Area Income', 'Avg. Area House Age', 'Avg. Area Number of Rooms',\n",
       "       'Avg. Area Number of Bedrooms', 'Area Population', 'Price', 'Address'],\n",
       "      dtype='object')"
      ]
     },
     "execution_count": 8,
     "metadata": {},
     "output_type": "execute_result"
    }
   ],
   "source": [
    "housing.columns"
   ]
  },
  {
   "cell_type": "code",
   "execution_count": 9,
   "metadata": {
    "execution": {
     "iopub.execute_input": "2020-11-15T18:55:46.600126Z",
     "iopub.status.busy": "2020-11-15T18:55:46.599058Z",
     "iopub.status.idle": "2020-11-15T18:55:46.602568Z",
     "shell.execute_reply": "2020-11-15T18:55:46.603167Z"
    },
    "papermill": {
     "duration": 0.067614,
     "end_time": "2020-11-15T18:55:46.603326",
     "exception": false,
     "start_time": "2020-11-15T18:55:46.535712",
     "status": "completed"
    },
    "tags": []
   },
   "outputs": [
    {
     "data": {
      "text/plain": [
       "Avg. Area Income                0\n",
       "Avg. Area House Age             0\n",
       "Avg. Area Number of Rooms       0\n",
       "Avg. Area Number of Bedrooms    0\n",
       "Area Population                 0\n",
       "Price                           0\n",
       "Address                         0\n",
       "dtype: int64"
      ]
     },
     "execution_count": 9,
     "metadata": {},
     "output_type": "execute_result"
    }
   ],
   "source": [
    "housing.isnull().sum()"
   ]
  },
  {
   "cell_type": "markdown",
   "metadata": {
    "papermill": {
     "duration": 0.05639,
     "end_time": "2020-11-15T18:55:46.715003",
     "exception": false,
     "start_time": "2020-11-15T18:55:46.658613",
     "status": "completed"
    },
    "tags": []
   },
   "source": [
    "So there is no missing or null value in the dataset so far, hence we can proceed further hassle free.\n",
    "Till now, we had a detailed look at the given data and fortunately we don't have any missing values. So, the data cleaning is not required for this data."
   ]
  },
  {
   "cell_type": "markdown",
   "metadata": {
    "papermill": {
     "duration": 0.056281,
     "end_time": "2020-11-15T18:55:46.828646",
     "exception": false,
     "start_time": "2020-11-15T18:55:46.772365",
     "status": "completed"
    },
    "tags": []
   },
   "source": [
    "# Exploratory Data Analysis (EDA)\n",
    "Let's create some simple plots to check out the data!"
   ]
  },
  {
   "cell_type": "code",
   "execution_count": 10,
   "metadata": {
    "execution": {
     "iopub.execute_input": "2020-11-15T18:55:46.949556Z",
     "iopub.status.busy": "2020-11-15T18:55:46.948764Z",
     "iopub.status.idle": "2020-11-15T18:55:58.907688Z",
     "shell.execute_reply": "2020-11-15T18:55:58.908287Z"
    },
    "papermill": {
     "duration": 12.023775,
     "end_time": "2020-11-15T18:55:58.908439",
     "exception": false,
     "start_time": "2020-11-15T18:55:46.884664",
     "status": "completed"
    },
    "tags": []
   },
   "outputs": [
    {
     "data": {
      "text/plain": [
       "<seaborn.axisgrid.PairGrid at 0x7f818f35d7d0>"
      ]
     },
     "execution_count": 10,
     "metadata": {},
     "output_type": "execute_result"
    },
    {
     "data": {
      "image/png": "[encoded data removed]",
      "text/plain": [
       "<Figure size 1080x1080 with 42 Axes>"
      ]
     },
     "metadata": {},
     "output_type": "display_data"
    }
   ],
   "source": [
    "sns.pairplot(housing)"
   ]
  },
  {
   "cell_type": "markdown",
   "metadata": {
    "papermill": {
     "duration": 0.063375,
     "end_time": "2020-11-15T18:55:59.036352",
     "exception": false,
     "start_time": "2020-11-15T18:55:58.972977",
     "status": "completed"
    },
    "tags": []
   },
   "source": [
    "As we can see here in the last line of graph that all the features seems to be in a linear relationship with price except Avg. Area Number of Bedroom.\n",
    "We can also see this by plotting a separate graph"
   ]
  },
  {
   "cell_type": "markdown",
   "metadata": {
    "papermill": {
     "duration": 0.06272,
     "end_time": "2020-11-15T18:55:59.162839",
     "exception": false,
     "start_time": "2020-11-15T18:55:59.100119",
     "status": "completed"
    },
    "tags": []
   },
   "source": [
    "Now, let's understand the correlation between variable by plotting correlation plot."
   ]
  },
  {
   "cell_type": "code",
   "execution_count": 11,
   "metadata": {
    "execution": {
     "iopub.execute_input": "2020-11-15T18:55:59.299671Z",
     "iopub.status.busy": "2020-11-15T18:55:59.298542Z",
     "iopub.status.idle": "2020-11-15T18:55:59.314809Z",
     "shell.execute_reply": "2020-11-15T18:55:59.314080Z"
    },
    "papermill": {
     "duration": 0.088625,
     "end_time": "2020-11-15T18:55:59.314950",
     "exception": false,
     "start_time": "2020-11-15T18:55:59.226325",
     "status": "completed"
    },
    "tags": []
   },
   "outputs": [
    {
     "data": {
      "text/html": [
       "<div>\n",
       "<style scoped>\n",
       "    .dataframe tbody tr th:only-of-type {\n",
       "        vertical-align: middle;\n",
       "    }\n",
       "\n",
       "    .dataframe tbody tr th {\n",
       "        vertical-align: top;\n",
       "    }\n",
       "\n",
       "    .dataframe thead th {\n",
       "        text-align: right;\n",
       "    }\n",
       "</style>\n",
       "<table border=\"1\" class=\"dataframe\">\n",
       "  <thead>\n",
       "    <tr style=\"text-align: right;\">\n",
       "      <th></th>\n",
       "      <th>Avg. Area Income</th>\n",
       "      <th>Avg. Area House Age</th>\n",
       "      <th>Avg. Area Number of Rooms</th>\n",
       "      <th>Avg. Area Number of Bedrooms</th>\n",
       "      <th>Area Population</th>\n",
       "      <th>Price</th>\n",
       "    </tr>\n",
       "  </thead>\n",
       "  <tbody>\n",
       "    <tr>\n",
       "      <th>Avg. Area Income</th>\n",
       "      <td>1.000000</td>\n",
       "      <td>-0.002007</td>\n",
       "      <td>-0.011032</td>\n",
       "      <td>0.019788</td>\n",
       "      <td>-0.016234</td>\n",
       "      <td>0.639734</td>\n",
       "    </tr>\n",
       "    <tr>\n",
       "      <th>Avg. Area House Age</th>\n",
       "      <td>-0.002007</td>\n",
       "      <td>1.000000</td>\n",
       "      <td>-0.009428</td>\n",
       "      <td>0.006149</td>\n",
       "      <td>-0.018743</td>\n",
       "      <td>0.452543</td>\n",
       "    </tr>\n",
       "    <tr>\n",
       "      <th>Avg. Area Number of Rooms</th>\n",
       "      <td>-0.011032</td>\n",
       "      <td>-0.009428</td>\n",
       "      <td>1.000000</td>\n",
       "      <td>0.462695</td>\n",
       "      <td>0.002040</td>\n",
       "      <td>0.335664</td>\n",
       "    </tr>\n",
       "    <tr>\n",
       "      <th>Avg. Area Number of Bedrooms</th>\n",
       "      <td>0.019788</td>\n",
       "      <td>0.006149</td>\n",
       "      <td>0.462695</td>\n",
       "      <td>1.000000</td>\n",
       "      <td>-0.022168</td>\n",
       "      <td>0.171071</td>\n",
       "    </tr>\n",
       "    <tr>\n",
       "      <th>Area Population</th>\n",
       "      <td>-0.016234</td>\n",
       "      <td>-0.018743</td>\n",
       "      <td>0.002040</td>\n",
       "      <td>-0.022168</td>\n",
       "      <td>1.000000</td>\n",
       "      <td>0.408556</td>\n",
       "    </tr>\n",
       "    <tr>\n",
       "      <th>Price</th>\n",
       "      <td>0.639734</td>\n",
       "      <td>0.452543</td>\n",
       "      <td>0.335664</td>\n",
       "      <td>0.171071</td>\n",
       "      <td>0.408556</td>\n",
       "      <td>1.000000</td>\n",
       "    </tr>\n",
       "  </tbody>\n",
       "</table>\n",
       "</div>"
      ],
      "text/plain": [
       "                              Avg. Area Income  Avg. Area House Age  \\\n",
       "Avg. Area Income                      1.000000            -0.002007   \n",
       "Avg. Area House Age                  -0.002007             1.000000   \n",
       "Avg. Area Number of Rooms            -0.011032            -0.009428   \n",
       "Avg. Area Number of Bedrooms          0.019788             0.006149   \n",
       "Area Population                      -0.016234            -0.018743   \n",
       "Price                                 0.639734             0.452543   \n",
       "\n",
       "                              Avg. Area Number of Rooms  \\\n",
       "Avg. Area Income                              -0.011032   \n",
       "Avg. Area House Age                           -0.009428   \n",
       "Avg. Area Number of Rooms                      1.000000   \n",
       "Avg. Area Number of Bedrooms                   0.462695   \n",
       "Area Population                                0.002040   \n",
       "Price                                          0.335664   \n",
       "\n",
       "                              Avg. Area Number of Bedrooms  Area Population  \\\n",
       "Avg. Area Income                                  0.019788        -0.016234   \n",
       "Avg. Area House Age                               0.006149        -0.018743   \n",
       "Avg. Area Number of Rooms                         0.462695         0.002040   \n",
       "Avg. Area Number of Bedrooms                      1.000000        -0.022168   \n",
       "Area Population                                  -0.022168         1.000000   \n",
       "Price                                             0.171071         0.408556   \n",
       "\n",
       "                                 Price  \n",
       "Avg. Area Income              0.639734  \n",
       "Avg. Area House Age           0.452543  \n",
       "Avg. Area Number of Rooms     0.335664  \n",
       "Avg. Area Number of Bedrooms  0.171071  \n",
       "Area Population               0.408556  \n",
       "Price                         1.000000  "
      ]
     },
     "execution_count": 11,
     "metadata": {},
     "output_type": "execute_result"
    }
   ],
   "source": [
    "housing.corr()"
   ]
  },
  {
   "cell_type": "markdown",
   "metadata": {
    "papermill": {
     "duration": 0.065525,
     "end_time": "2020-11-15T18:55:59.444707",
     "exception": false,
     "start_time": "2020-11-15T18:55:59.379182",
     "status": "completed"
    },
    "tags": []
   },
   "source": [
    "Visualizing the above correlaton using a correlation matrix in heatmap"
   ]
  },
  {
   "cell_type": "code",
   "execution_count": 12,
   "metadata": {
    "execution": {
     "iopub.execute_input": "2020-11-15T18:55:59.578942Z",
     "iopub.status.busy": "2020-11-15T18:55:59.578150Z",
     "iopub.status.idle": "2020-11-15T18:56:00.012497Z",
     "shell.execute_reply": "2020-11-15T18:56:00.011659Z"
    },
    "papermill": {
     "duration": 0.504016,
     "end_time": "2020-11-15T18:56:00.012641",
     "exception": false,
     "start_time": "2020-11-15T18:55:59.508625",
     "status": "completed"
    },
    "tags": []
   },
   "outputs": [
    {
     "data": {
      "text/plain": [
       "<matplotlib.axes._subplots.AxesSubplot at 0x7f818bfe4210>"
      ]
     },
     "execution_count": 12,
     "metadata": {},
     "output_type": "execute_result"
    },
    {
     "data": {
      "image/png": "[encoded data removed]",
      "text/plain": [
       "<Figure size 432x288 with 2 Axes>"
      ]
     },
     "metadata": {},
     "output_type": "display_data"
    }
   ],
   "source": [
    "sns.heatmap(housing.corr(),annot=True)"
   ]
  },
  {
   "cell_type": "markdown",
   "metadata": {
    "papermill": {
     "duration": 0.0675,
     "end_time": "2020-11-15T18:56:00.149375",
     "exception": false,
     "start_time": "2020-11-15T18:56:00.081875",
     "status": "completed"
    },
    "tags": []
   },
   "source": [
    "As we can see that price is more correlated to Avg. Income Area, House Age and Area Population than Number of Bedrooms and Rooms. Lets see these metrics in tabular format."
   ]
  },
  {
   "cell_type": "code",
   "execution_count": 13,
   "metadata": {
    "execution": {
     "iopub.execute_input": "2020-11-15T18:56:00.301359Z",
     "iopub.status.busy": "2020-11-15T18:56:00.298872Z",
     "iopub.status.idle": "2020-11-15T18:56:00.606213Z",
     "shell.execute_reply": "2020-11-15T18:56:00.605555Z"
    },
    "papermill": {
     "duration": 0.389301,
     "end_time": "2020-11-15T18:56:00.606343",
     "exception": false,
     "start_time": "2020-11-15T18:56:00.217042",
     "status": "completed"
    },
    "tags": []
   },
   "outputs": [
    {
     "data": {
      "text/plain": [
       "<matplotlib.collections.PathCollection at 0x7f818a2055d0>"
      ]
     },
     "execution_count": 13,
     "metadata": {},
     "output_type": "execute_result"
    },
    {
     "data": {
      "image/png": "[encoded data removed]",
      "text/plain": [
       "<Figure size 432x288 with 1 Axes>"
      ]
     },
     "metadata": {},
     "output_type": "display_data"
    }
   ],
   "source": [
    "# visualizing/checking the linear relationship between Price and Avg. Area Income by plotting their scatter Plot as below:\n",
    "plt.scatter(housing.Price, housing[['Avg. Area Income']])"
   ]
  },
  {
   "cell_type": "markdown",
   "metadata": {
    "papermill": {
     "duration": 0.068332,
     "end_time": "2020-11-15T18:56:00.743364",
     "exception": false,
     "start_time": "2020-11-15T18:56:00.675032",
     "status": "completed"
    },
    "tags": []
   },
   "source": [
    "Now we gotta check the distribution of our target variable that is Price as below:"
   ]
  },
  {
   "cell_type": "code",
   "execution_count": 14,
   "metadata": {
    "execution": {
     "iopub.execute_input": "2020-11-15T18:56:00.903904Z",
     "iopub.status.busy": "2020-11-15T18:56:00.894435Z",
     "iopub.status.idle": "2020-11-15T18:56:01.375350Z",
     "shell.execute_reply": "2020-11-15T18:56:01.374461Z"
    },
    "papermill": {
     "duration": 0.563469,
     "end_time": "2020-11-15T18:56:01.375514",
     "exception": false,
     "start_time": "2020-11-15T18:56:00.812045",
     "status": "completed"
    },
    "tags": []
   },
   "outputs": [
    {
     "data": {
      "text/plain": [
       "<matplotlib.axes._subplots.AxesSubplot at 0x7f818a1c2090>"
      ]
     },
     "execution_count": 14,
     "metadata": {},
     "output_type": "execute_result"
    },
    {
     "data": {
      "image/png": "[encoded data removed]",
      "text/plain": [
       "<Figure size 432x288 with 1 Axes>"
      ]
     },
     "metadata": {},
     "output_type": "display_data"
    }
   ],
   "source": [
    "sns.distplot(housing['Price'])"
   ]
  },
  {
   "cell_type": "markdown",
   "metadata": {
    "papermill": {
     "duration": 0.073827,
     "end_time": "2020-11-15T18:56:01.525182",
     "exception": false,
     "start_time": "2020-11-15T18:56:01.451355",
     "status": "completed"
    },
    "tags": []
   },
   "source": [
    "We can see the price plot seems like a bell shaped curve and all the price is normally distributed."
   ]
  },
  {
   "cell_type": "markdown",
   "metadata": {
    "papermill": {
     "duration": 0.071908,
     "end_time": "2020-11-15T18:56:01.669191",
     "exception": false,
     "start_time": "2020-11-15T18:56:01.597283",
     "status": "completed"
    },
    "tags": []
   },
   "source": [
    "# Training a Linear Regression Model\n",
    "Let's now begin to train out regression model! We will need to first split up our data into an X array that contains the features to train on, and a y array with the target variable, in this case the Price column. We will toss out the Address column because it only has text info that the linear regression model can't use."
   ]
  },
  {
   "cell_type": "markdown",
   "metadata": {
    "papermill": {
     "duration": 0.072623,
     "end_time": "2020-11-15T18:56:01.813496",
     "exception": false,
     "start_time": "2020-11-15T18:56:01.740873",
     "status": "completed"
    },
    "tags": []
   },
   "source": [
    "# X and y arrays"
   ]
  },
  {
   "cell_type": "code",
   "execution_count": 15,
   "metadata": {
    "execution": {
     "iopub.execute_input": "2020-11-15T18:56:01.974512Z",
     "iopub.status.busy": "2020-11-15T18:56:01.973423Z",
     "iopub.status.idle": "2020-11-15T18:56:01.976897Z",
     "shell.execute_reply": "2020-11-15T18:56:01.976153Z"
    },
    "papermill": {
     "duration": 0.08277,
     "end_time": "2020-11-15T18:56:01.977022",
     "exception": false,
     "start_time": "2020-11-15T18:56:01.894252",
     "status": "completed"
    },
    "tags": []
   },
   "outputs": [],
   "source": [
    "X = housing[['Avg. Area Income', 'Avg. Area House Age', 'Avg. Area Number of Rooms',\n",
    "               'Avg. Area Number of Bedrooms', 'Area Population']]\n",
    "y = housing['Price']"
   ]
  },
  {
   "cell_type": "markdown",
   "metadata": {
    "papermill": {
     "duration": 0.071511,
     "end_time": "2020-11-15T18:56:02.119874",
     "exception": false,
     "start_time": "2020-11-15T18:56:02.048363",
     "status": "completed"
    },
    "tags": []
   },
   "source": [
    "# Train Test Split\n",
    "Now let's split the data into a training set and a testing set. We will train out model on the training set and then use the test set to evaluate the model."
   ]
  },
  {
   "cell_type": "code",
   "execution_count": 16,
   "metadata": {
    "execution": {
     "iopub.execute_input": "2020-11-15T18:56:02.270089Z",
     "iopub.status.busy": "2020-11-15T18:56:02.269336Z",
     "iopub.status.idle": "2020-11-15T18:56:02.409662Z",
     "shell.execute_reply": "2020-11-15T18:56:02.410299Z"
    },
    "papermill": {
     "duration": 0.21977,
     "end_time": "2020-11-15T18:56:02.410490",
     "exception": false,
     "start_time": "2020-11-15T18:56:02.190720",
     "status": "completed"
    },
    "tags": []
   },
   "outputs": [],
   "source": [
    "from sklearn.model_selection import train_test_split\n",
    "X_train, X_test, y_train, y_test = train_test_split(X, y, test_size=0.4, random_state=101)"
   ]
  },
  {
   "cell_type": "code",
   "execution_count": 17,
   "metadata": {
    "execution": {
     "iopub.execute_input": "2020-11-15T18:56:02.571193Z",
     "iopub.status.busy": "2020-11-15T18:56:02.570218Z",
     "iopub.status.idle": "2020-11-15T18:56:02.573438Z",
     "shell.execute_reply": "2020-11-15T18:56:02.572863Z"
    },
    "papermill": {
     "duration": 0.089084,
     "end_time": "2020-11-15T18:56:02.573566",
     "exception": false,
     "start_time": "2020-11-15T18:56:02.484482",
     "status": "completed"
    },
    "tags": []
   },
   "outputs": [],
   "source": [
    "from sklearn import metrics\n",
    "from sklearn.model_selection import cross_val_score\n",
    "\n",
    "def cross_val(model):\n",
    "    pred_score = cross_val_score(model, X, y, cv=10)\n",
    "    return pred_score.mean()\n",
    "\n",
    "def print_evaluate(true, predicted):  \n",
    "    mae = metrics.mean_absolute_error(true, predicted)\n",
    "    mse = metrics.mean_squared_error(true, predicted)\n",
    "    rmse = np.sqrt(metrics.mean_squared_error(true, predicted))\n",
    "    r2_square = metrics.r2_score(true, predicted)\n",
    "    print('MAE:', mae)\n",
    "    print('MSE:', mse)\n",
    "    print('RMSE:', rmse)\n",
    "    print('R2 Square', r2_square)\n",
    "    \n",
    "def evaluate(true, predicted):\n",
    "    mae = metrics.mean_absolute_error(true, predicted)\n",
    "    mse = metrics.mean_squared_error(true, predicted)\n",
    "    rmse = np.sqrt(metrics.mean_squared_error(true, predicted))\n",
    "    r2_square = metrics.r2_score(true, predicted)\n",
    "    return mae, mse, rmse, r2_square"
   ]
  },
  {
   "cell_type": "markdown",
   "metadata": {
    "papermill": {
     "duration": 0.072962,
     "end_time": "2020-11-15T18:56:02.719567",
     "exception": false,
     "start_time": "2020-11-15T18:56:02.646605",
     "status": "completed"
    },
    "tags": []
   },
   "source": [
    "# Preparing Data For Linear Regression\n",
    "Linear regression is been studied at great length, and there is a lot of literature on how your data must be structured to make best use of the model.\n",
    "\n",
    "As such, there is a lot of sophistication when talking about these requirements and expectations which can be intimidating. In practice, you can uses these rules more as rules of thumb when using Ordinary Least Squares Regression, the most common implementation of linear regression.\n",
    "\n",
    "Try different preparations of your data using these heuristics and see what works best for your problem.\n",
    "\n",
    "-Linear Assumption. Linear regression assumes that the relationship between your input and output is linear. It does not support anything else. This may be obvious, but it is good to remember when you have a lot of attributes. You may need to transform data to make the relationship linear (e.g. log transform for an exponential relationship).\n",
    "\n",
    "-Remove Noise. Linear regression assumes that your input and output variables are not noisy. Consider using data cleaning operations that let you better expose and clarify the signal in your data. This is most important for the output variable and you want to remove outliers in the output variable (y) if possible.\n",
    "\n",
    "-Remove Collinearity. Linear regression will over-fit your data when you have highly correlated input variables. Consider calculating pairwise correlations for your input data and removing the most correlated.\n",
    "\n",
    "-Gaussian Distributions. Linear regression will make more reliable predictions if your input and output variables have a Gaussian distribution. You may get some benefit using transforms (e.g. log or BoxCox) on you variables to make their distribution more Gaussian looking.\n",
    "\n",
    "-Rescale Inputs: Linear regression will often make more reliable predictions if you rescale input variables using standardization or normalization."
   ]
  },
  {
   "cell_type": "markdown",
   "metadata": {
    "papermill": {
     "duration": 0.072924,
     "end_time": "2020-11-15T18:56:02.867396",
     "exception": false,
     "start_time": "2020-11-15T18:56:02.794472",
     "status": "completed"
    },
    "tags": []
   },
   "source": [
    "# 1. Linear Regression"
   ]
  },
  {
   "cell_type": "code",
   "execution_count": 18,
   "metadata": {
    "execution": {
     "iopub.execute_input": "2020-11-15T18:56:03.017126Z",
     "iopub.status.busy": "2020-11-15T18:56:03.016318Z",
     "iopub.status.idle": "2020-11-15T18:56:03.173110Z",
     "shell.execute_reply": "2020-11-15T18:56:03.172463Z"
    },
    "papermill": {
     "duration": 0.233611,
     "end_time": "2020-11-15T18:56:03.173242",
     "exception": false,
     "start_time": "2020-11-15T18:56:02.939631",
     "status": "completed"
    },
    "tags": []
   },
   "outputs": [
    {
     "data": {
      "text/plain": [
       "LinearRegression(normalize=True)"
      ]
     },
     "execution_count": 18,
     "metadata": {},
     "output_type": "execute_result"
    }
   ],
   "source": [
    "from sklearn.linear_model import LinearRegression\n",
    "\n",
    "lin_reg = LinearRegression(normalize=True)\n",
    "lin_reg.fit(X_train,y_train)"
   ]
  },
  {
   "cell_type": "markdown",
   "metadata": {
    "papermill": {
     "duration": 0.071535,
     "end_time": "2020-11-15T18:56:03.317973",
     "exception": false,
     "start_time": "2020-11-15T18:56:03.246438",
     "status": "completed"
    },
    "tags": []
   },
   "source": [
    "# Model Evaluation\n",
    "Let's evaluate the model by checking out it's coefficients and how we can interpret them."
   ]
  },
  {
   "cell_type": "code",
   "execution_count": 19,
   "metadata": {
    "execution": {
     "iopub.execute_input": "2020-11-15T18:56:03.520332Z",
     "iopub.status.busy": "2020-11-15T18:56:03.519346Z",
     "iopub.status.idle": "2020-11-15T18:56:03.524003Z",
     "shell.execute_reply": "2020-11-15T18:56:03.523010Z"
    },
    "papermill": {
     "duration": 0.132889,
     "end_time": "2020-11-15T18:56:03.524175",
     "exception": false,
     "start_time": "2020-11-15T18:56:03.391286",
     "status": "completed"
    },
    "tags": []
   },
   "outputs": [
    {
     "name": "stdout",
     "output_type": "stream",
     "text": [
      "-2640159.796851545\n"
     ]
    }
   ],
   "source": [
    "# print the intercept\n",
    "print(lin_reg.intercept_)"
   ]
  },
  {
   "cell_type": "code",
   "execution_count": 20,
   "metadata": {
    "execution": {
     "iopub.execute_input": "2020-11-15T18:56:03.684856Z",
     "iopub.status.busy": "2020-11-15T18:56:03.683945Z",
     "iopub.status.idle": "2020-11-15T18:56:03.688802Z",
     "shell.execute_reply": "2020-11-15T18:56:03.688175Z"
    },
    "papermill": {
     "duration": 0.087605,
     "end_time": "2020-11-15T18:56:03.688972",
     "exception": false,
     "start_time": "2020-11-15T18:56:03.601367",
     "status": "completed"
    },
    "tags": []
   },
   "outputs": [
    {
     "data": {
      "text/html": [
       "<div>\n",
       "<style scoped>\n",
       "    .dataframe tbody tr th:only-of-type {\n",
       "        vertical-align: middle;\n",
       "    }\n",
       "\n",
       "    .dataframe tbody tr th {\n",
       "        vertical-align: top;\n",
       "    }\n",
       "\n",
       "    .dataframe thead th {\n",
       "        text-align: right;\n",
       "    }\n",
       "</style>\n",
       "<table border=\"1\" class=\"dataframe\">\n",
       "  <thead>\n",
       "    <tr style=\"text-align: right;\">\n",
       "      <th></th>\n",
       "      <th>Coefficient</th>\n",
       "    </tr>\n",
       "  </thead>\n",
       "  <tbody>\n",
       "    <tr>\n",
       "      <th>Avg. Area Income</th>\n",
       "      <td>21.528276</td>\n",
       "    </tr>\n",
       "    <tr>\n",
       "      <th>Avg. Area House Age</th>\n",
       "      <td>164883.282027</td>\n",
       "    </tr>\n",
       "    <tr>\n",
       "      <th>Avg. Area Number of Rooms</th>\n",
       "      <td>122368.678027</td>\n",
       "    </tr>\n",
       "    <tr>\n",
       "      <th>Avg. Area Number of Bedrooms</th>\n",
       "      <td>2233.801864</td>\n",
       "    </tr>\n",
       "    <tr>\n",
       "      <th>Area Population</th>\n",
       "      <td>15.150420</td>\n",
       "    </tr>\n",
       "  </tbody>\n",
       "</table>\n",
       "</div>"
      ],
      "text/plain": [
       "                                Coefficient\n",
       "Avg. Area Income                  21.528276\n",
       "Avg. Area House Age           164883.282027\n",
       "Avg. Area Number of Rooms     122368.678027\n",
       "Avg. Area Number of Bedrooms    2233.801864\n",
       "Area Population                   15.150420"
      ]
     },
     "execution_count": 20,
     "metadata": {},
     "output_type": "execute_result"
    }
   ],
   "source": [
    "coeff_df = pd.DataFrame(lin_reg.coef_, X.columns, columns=['Coefficient'])\n",
    "coeff_df"
   ]
  },
  {
   "cell_type": "markdown",
   "metadata": {
    "papermill": {
     "duration": 0.073024,
     "end_time": "2020-11-15T18:56:03.836699",
     "exception": false,
     "start_time": "2020-11-15T18:56:03.763675",
     "status": "completed"
    },
    "tags": []
   },
   "source": [
    "Interpreting the coefficients:\n",
    "\n",
    "* Holding all other features fixed, a 1 unit increase in Avg. Area Income is associated with an increase of $21.52.\n",
    "\n",
    "* Holding all other features fixed, a 1 unit increase in Avg. Area House Age is associated with an increase of $164883.28.\n",
    "\n",
    "* Holding all other features fixed, a 1 unit increase in Avg. Area Number of Rooms is associated with an increase of $122368.67.\n",
    "\n",
    "* Holding all other features fixed, a 1 unit increase in Avg. Area Number of Bedrooms is associated with an increase of $2233.80.\n",
    "\n",
    "* Holding all other features fixed, a 1 unit increase in Area Population is associated with an increase of $15.15."
   ]
  },
  {
   "cell_type": "markdown",
   "metadata": {
    "papermill": {
     "duration": 0.073302,
     "end_time": "2020-11-15T18:56:03.984489",
     "exception": false,
     "start_time": "2020-11-15T18:56:03.911187",
     "status": "completed"
    },
    "tags": []
   },
   "source": [
    "# Predictions from our Model\n",
    "So Let's go ahead and do some predictions off our test set and see how well it do!"
   ]
  },
  {
   "cell_type": "code",
   "execution_count": 21,
   "metadata": {
    "execution": {
     "iopub.execute_input": "2020-11-15T18:56:04.142366Z",
     "iopub.status.busy": "2020-11-15T18:56:04.141334Z",
     "iopub.status.idle": "2020-11-15T18:56:04.145463Z",
     "shell.execute_reply": "2020-11-15T18:56:04.144778Z"
    },
    "papermill": {
     "duration": 0.084952,
     "end_time": "2020-11-15T18:56:04.145589",
     "exception": false,
     "start_time": "2020-11-15T18:56:04.060637",
     "status": "completed"
    },
    "tags": []
   },
   "outputs": [],
   "source": [
    "pred = lin_reg.predict(X_test)"
   ]
  },
  {
   "cell_type": "markdown",
   "metadata": {
    "papermill": {
     "duration": 0.075246,
     "end_time": "2020-11-15T18:56:04.296015",
     "exception": false,
     "start_time": "2020-11-15T18:56:04.220769",
     "status": "completed"
    },
    "tags": []
   },
   "source": [
    "Here we Plot the 2 entities : Observed V/S Predicted Values using scatter plot and see how close 2 are."
   ]
  },
  {
   "cell_type": "code",
   "execution_count": 22,
   "metadata": {
    "execution": {
     "iopub.execute_input": "2020-11-15T18:56:04.457708Z",
     "iopub.status.busy": "2020-11-15T18:56:04.456415Z",
     "iopub.status.idle": "2020-11-15T18:56:04.745925Z",
     "shell.execute_reply": "2020-11-15T18:56:04.745180Z"
    },
    "papermill": {
     "duration": 0.376056,
     "end_time": "2020-11-15T18:56:04.746055",
     "exception": false,
     "start_time": "2020-11-15T18:56:04.369999",
     "status": "completed"
    },
    "tags": []
   },
   "outputs": [
    {
     "data": {
      "text/plain": [
       "<matplotlib.collections.PathCollection at 0x7f8182a16690>"
      ]
     },
     "execution_count": 22,
     "metadata": {},
     "output_type": "execute_result"
    },
    {
     "data": {
      "image/png": "[encoded data removed]",
      "text/plain": [
       "<Figure size 432x288 with 1 Axes>"
      ]
     },
     "metadata": {},
     "output_type": "display_data"
    }
   ],
   "source": [
    "plt.scatter(y_test, pred)"
   ]
  },
  {
   "cell_type": "markdown",
   "metadata": {
    "papermill": {
     "duration": 0.075943,
     "end_time": "2020-11-15T18:56:04.898022",
     "exception": false,
     "start_time": "2020-11-15T18:56:04.822079",
     "status": "completed"
    },
    "tags": []
   },
   "source": [
    "# Residual Histogram\n",
    "Residuals = Observed value - Predicted Value which is (y_test - pred) in our case here.\n",
    "So we see the distribution of the residuals using distribution plot down below."
   ]
  },
  {
   "cell_type": "code",
   "execution_count": 23,
   "metadata": {
    "execution": {
     "iopub.execute_input": "2020-11-15T18:56:05.059265Z",
     "iopub.status.busy": "2020-11-15T18:56:05.053546Z",
     "iopub.status.idle": "2020-11-15T18:56:05.441994Z",
     "shell.execute_reply": "2020-11-15T18:56:05.441220Z"
    },
    "papermill": {
     "duration": 0.469061,
     "end_time": "2020-11-15T18:56:05.442121",
     "exception": false,
     "start_time": "2020-11-15T18:56:04.973060",
     "status": "completed"
    },
    "tags": []
   },
   "outputs": [
    {
     "data": {
      "image/png": "[encoded data removed]",
      "text/plain": [
       "<Figure size 432x288 with 1 Axes>"
      ]
     },
     "metadata": {},
     "output_type": "display_data"
    }
   ],
   "source": [
    "sns.distplot((y_test - pred), bins=50);"
   ]
  },
  {
   "cell_type": "markdown",
   "metadata": {
    "papermill": {
     "duration": 0.076014,
     "end_time": "2020-11-15T18:56:05.594712",
     "exception": false,
     "start_time": "2020-11-15T18:56:05.518698",
     "status": "completed"
    },
    "tags": []
   },
   "source": [
    "Regression Evaluation Metrics\n",
    "Here are three common evaluation metrics for regression problems:\n",
    "\n",
    "Mean Absolute Error (MAE) is the mean of the absolute value of the errors:\n",
    "\n",
    "$$\n",
    "1/n∑i=1/n|y{i}−y^{i}|\n",
    "$$ \n",
    "\n",
    "Mean Squared Error (MSE) is the mean of the squared errors:\n",
    "\n",
    "$$\n",
    "1/n∑i=1/n(yi−y^i)^2\n",
    "$$ \n",
    "\n",
    "Root Mean Squared Error (RMSE) is the square root of the mean of the squared errors:\n",
    "\n",
    "$$\n",
    "1/n∑i=√1/n(yi−y^i)^2\n",
    "$$ \n",
    "\n",
    "Comparing these metrics:\n",
    "\n",
    "MAE is the easiest to understand, because it's the average error.\n",
    "MSE is more popular than MAE, because MSE \"punishes\" larger errors, which tends to be useful in the real world.\n",
    "RMSE is even more popular than MSE, because RMSE is interpretable in the \"y\" units.\n",
    "All of these are loss functions, because we want to minimize them."
   ]
  },
  {
   "cell_type": "code",
   "execution_count": 24,
   "metadata": {
    "execution": {
     "iopub.execute_input": "2020-11-15T18:56:05.759589Z",
     "iopub.status.busy": "2020-11-15T18:56:05.758377Z",
     "iopub.status.idle": "2020-11-15T18:56:05.766380Z",
     "shell.execute_reply": "2020-11-15T18:56:05.765658Z"
    },
    "papermill": {
     "duration": 0.095176,
     "end_time": "2020-11-15T18:56:05.766512",
     "exception": false,
     "start_time": "2020-11-15T18:56:05.671336",
     "status": "completed"
    },
    "tags": []
   },
   "outputs": [
    {
     "name": "stdout",
     "output_type": "stream",
     "text": [
      "MAE: 82288.22251914965\n",
      "MSE: 10460958907.209747\n",
      "RMSE: 102278.82922291273\n",
      "R2 Square 0.917682400964918\n"
     ]
    }
   ],
   "source": [
    "print_evaluate(y_test, lin_reg.predict(X_test))"
   ]
  },
  {
   "cell_type": "code",
   "execution_count": 25,
   "metadata": {
    "execution": {
     "iopub.execute_input": "2020-11-15T18:56:05.932608Z",
     "iopub.status.busy": "2020-11-15T18:56:05.931719Z",
     "iopub.status.idle": "2020-11-15T18:56:06.012637Z",
     "shell.execute_reply": "2020-11-15T18:56:06.011910Z"
    },
    "papermill": {
     "duration": 0.169058,
     "end_time": "2020-11-15T18:56:06.012765",
     "exception": false,
     "start_time": "2020-11-15T18:56:05.843707",
     "status": "completed"
    },
    "tags": []
   },
   "outputs": [
    {
     "data": {
      "text/html": [
       "<div>\n",
       "<style scoped>\n",
       "    .dataframe tbody tr th:only-of-type {\n",
       "        vertical-align: middle;\n",
       "    }\n",
       "\n",
       "    .dataframe tbody tr th {\n",
       "        vertical-align: top;\n",
       "    }\n",
       "\n",
       "    .dataframe thead th {\n",
       "        text-align: right;\n",
       "    }\n",
       "</style>\n",
       "<table border=\"1\" class=\"dataframe\">\n",
       "  <thead>\n",
       "    <tr style=\"text-align: right;\">\n",
       "      <th></th>\n",
       "      <th>Model</th>\n",
       "      <th>MAE</th>\n",
       "      <th>MSE</th>\n",
       "      <th>RMSE</th>\n",
       "      <th>R2 Square</th>\n",
       "      <th>Cross Validation</th>\n",
       "    </tr>\n",
       "  </thead>\n",
       "  <tbody>\n",
       "    <tr>\n",
       "      <th>0</th>\n",
       "      <td>Linear Regression</td>\n",
       "      <td>82288.222519</td>\n",
       "      <td>1.046096e+10</td>\n",
       "      <td>102278.829223</td>\n",
       "      <td>0.917682</td>\n",
       "      <td>0.917379</td>\n",
       "    </tr>\n",
       "  </tbody>\n",
       "</table>\n",
       "</div>"
      ],
      "text/plain": [
       "               Model           MAE           MSE           RMSE  R2 Square  \\\n",
       "0  Linear Regression  82288.222519  1.046096e+10  102278.829223   0.917682   \n",
       "\n",
       "   Cross Validation  \n",
       "0          0.917379  "
      ]
     },
     "execution_count": 25,
     "metadata": {},
     "output_type": "execute_result"
    }
   ],
   "source": [
    "results_df = pd.DataFrame(data=[[\"Linear Regression\", *evaluate(y_test, pred) , cross_val(LinearRegression())]], \n",
    "                          columns=['Model', 'MAE', 'MSE', 'RMSE', 'R2 Square', \"Cross Validation\"])\n",
    "results_df"
   ]
  },
  {
   "cell_type": "markdown",
   "metadata": {
    "papermill": {
     "duration": 0.081884,
     "end_time": "2020-11-15T18:56:06.175858",
     "exception": false,
     "start_time": "2020-11-15T18:56:06.093974",
     "status": "completed"
    },
    "tags": []
   },
   "source": [
    "# 2. Robust Regression"
   ]
  },
  {
   "cell_type": "markdown",
   "metadata": {
    "papermill": {
     "duration": 0.078666,
     "end_time": "2020-11-15T18:56:06.332390",
     "exception": false,
     "start_time": "2020-11-15T18:56:06.253724",
     "status": "completed"
    },
    "tags": []
   },
   "source": [
    "Robust regression is a form of regression analysis designed to overcome some limitations of traditional parametric and non-parametric methods. Robust regression methods are designed to be not overly affected by violations of assumptions by the underlying data-generating process.\n",
    "\n",
    "One instance in which robust estimation should be considered is when there is a strong suspicion of heteroscedasticity.\n",
    "\n",
    "A common situation in which robust estimation is used occurs when the data contain outliers. In the presence of outliers that do not come from the same data-generating process as the rest of the data, least squares estimation is inefficient and can be biased. Because the least squares predictions are dragged towards the outliers, and because the variance of the estimates is artificially inflated, the result is that outliers can be masked. (In many situations, including some areas of geostatistics and medical statistics, it is precisely the outliers that are of interest.)"
   ]
  },
  {
   "cell_type": "markdown",
   "metadata": {
    "papermill": {
     "duration": 0.078378,
     "end_time": "2020-11-15T18:56:06.489979",
     "exception": false,
     "start_time": "2020-11-15T18:56:06.411601",
     "status": "completed"
    },
    "tags": []
   },
   "source": [
    "# Random Sample Consensus - RANSAC"
   ]
  },
  {
   "cell_type": "markdown",
   "metadata": {
    "papermill": {
     "duration": 0.077703,
     "end_time": "2020-11-15T18:56:06.645323",
     "exception": false,
     "start_time": "2020-11-15T18:56:06.567620",
     "status": "completed"
    },
    "tags": []
   },
   "source": [
    "Random Sample Consensus - RANSAC\n",
    "Random sample consensus (RANSAC) is an iterative method to estimate parameters of a mathematical model from a set of observed data that contains outliers, when outliers are to be accorded no influence on the values of the estimates. Therefore, it also can be interpreted as an outlier detection method.\n",
    "\n",
    "A basic assumption is that the data consists of \"inliers\", i.e., data whose distribution can be explained by some set of model parameters, though may be subject to noise, and \"outliers\" which are data that do not fit the model. The outliers can come, for example, from extreme values of the noise or from erroneous measurements or incorrect hypotheses about the interpretation of data. RANSAC also assumes that, given a (usually small) set of inliers, there exists a procedure which can estimate the parameters of a model that optimally explains or fits this data."
   ]
  },
  {
   "cell_type": "code",
   "execution_count": 26,
   "metadata": {
    "execution": {
     "iopub.execute_input": "2020-11-15T18:56:06.814453Z",
     "iopub.status.busy": "2020-11-15T18:56:06.811581Z",
     "iopub.status.idle": "2020-11-15T18:56:06.838006Z",
     "shell.execute_reply": "2020-11-15T18:56:06.837048Z"
    },
    "papermill": {
     "duration": 0.112587,
     "end_time": "2020-11-15T18:56:06.838175",
     "exception": false,
     "start_time": "2020-11-15T18:56:06.725588",
     "status": "completed"
    },
    "tags": []
   },
   "outputs": [
    {
     "name": "stdout",
     "output_type": "stream",
     "text": [
      "MAE: 84857.4668833962\n",
      "MSE: 11142770913.971426\n",
      "RMSE: 105559.32414510538\n",
      "R2 Square 0.9123172018576708\n"
     ]
    }
   ],
   "source": [
    "from sklearn.linear_model import RANSACRegressor\n",
    "\n",
    "model = RANSACRegressor()\n",
    "model.fit(X_train, y_train)\n",
    "\n",
    "pred = model.predict(X_test)\n",
    "print_evaluate(y_test, pred)"
   ]
  },
  {
   "cell_type": "code",
   "execution_count": 27,
   "metadata": {
    "execution": {
     "iopub.execute_input": "2020-11-15T18:56:07.006349Z",
     "iopub.status.busy": "2020-11-15T18:56:07.005530Z",
     "iopub.status.idle": "2020-11-15T18:56:07.203772Z",
     "shell.execute_reply": "2020-11-15T18:56:07.202991Z"
    },
    "papermill": {
     "duration": 0.28576,
     "end_time": "2020-11-15T18:56:07.203957",
     "exception": false,
     "start_time": "2020-11-15T18:56:06.918197",
     "status": "completed"
    },
    "tags": []
   },
   "outputs": [
    {
     "data": {
      "text/html": [
       "<div>\n",
       "<style scoped>\n",
       "    .dataframe tbody tr th:only-of-type {\n",
       "        vertical-align: middle;\n",
       "    }\n",
       "\n",
       "    .dataframe tbody tr th {\n",
       "        vertical-align: top;\n",
       "    }\n",
       "\n",
       "    .dataframe thead th {\n",
       "        text-align: right;\n",
       "    }\n",
       "</style>\n",
       "<table border=\"1\" class=\"dataframe\">\n",
       "  <thead>\n",
       "    <tr style=\"text-align: right;\">\n",
       "      <th></th>\n",
       "      <th>Model</th>\n",
       "      <th>MAE</th>\n",
       "      <th>MSE</th>\n",
       "      <th>RMSE</th>\n",
       "      <th>R2 Square</th>\n",
       "      <th>Cross Validation</th>\n",
       "    </tr>\n",
       "  </thead>\n",
       "  <tbody>\n",
       "    <tr>\n",
       "      <th>0</th>\n",
       "      <td>Linear Regression</td>\n",
       "      <td>82288.222519</td>\n",
       "      <td>1.046096e+10</td>\n",
       "      <td>102278.829223</td>\n",
       "      <td>0.917682</td>\n",
       "      <td>0.917379</td>\n",
       "    </tr>\n",
       "    <tr>\n",
       "      <th>1</th>\n",
       "      <td>Robust Regression</td>\n",
       "      <td>84857.466883</td>\n",
       "      <td>1.114277e+10</td>\n",
       "      <td>105559.324145</td>\n",
       "      <td>0.912317</td>\n",
       "      <td>0.910264</td>\n",
       "    </tr>\n",
       "  </tbody>\n",
       "</table>\n",
       "</div>"
      ],
      "text/plain": [
       "               Model           MAE           MSE           RMSE  R2 Square  \\\n",
       "0  Linear Regression  82288.222519  1.046096e+10  102278.829223   0.917682   \n",
       "1  Robust Regression  84857.466883  1.114277e+10  105559.324145   0.912317   \n",
       "\n",
       "   Cross Validation  \n",
       "0          0.917379  \n",
       "1          0.910264  "
      ]
     },
     "execution_count": 27,
     "metadata": {},
     "output_type": "execute_result"
    }
   ],
   "source": [
    "results_df_2 = pd.DataFrame(data=[[\"Robust Regression\", *evaluate(y_test, pred) , cross_val(RANSACRegressor())]], \n",
    "                            columns=['Model', 'MAE', 'MSE', 'RMSE', 'R2 Square', \"Cross Validation\"])\n",
    "results_df = results_df.append(results_df_2, ignore_index=True)\n",
    "results_df"
   ]
  },
  {
   "cell_type": "markdown",
   "metadata": {
    "papermill": {
     "duration": 0.079534,
     "end_time": "2020-11-15T18:56:07.365628",
     "exception": false,
     "start_time": "2020-11-15T18:56:07.286094",
     "status": "completed"
    },
    "tags": []
   },
   "source": [
    "# 3. Ridge Regression"
   ]
  },
  {
   "cell_type": "markdown",
   "metadata": {
    "papermill": {
     "duration": 0.078877,
     "end_time": "2020-11-15T18:56:07.524556",
     "exception": false,
     "start_time": "2020-11-15T18:56:07.445679",
     "status": "completed"
    },
    "tags": []
   },
   "source": [
    "Ridge regression addresses some of the problems of Ordinary Least Squares by imposing a penalty on the size of coefficients. The ridge coefficients minimize a penalized residual sum of squares,\n",
    "\n",
    "$ minw∣∣∣∣Xw−y∣∣∣∣22+α∣∣∣∣w∣∣∣∣22 $\n",
    " \n",
    "α>=0  is a complexity parameter that controls the amount of shrinkage: the larger the value of  α , the greater the amount of shrinkage and thus the coefficients become more robust to collinearity.\n",
    "\n",
    "Ridge regression is an L2 penalized model. Add the squared sum of the weights to the least-squares cost function."
   ]
  },
  {
   "cell_type": "code",
   "execution_count": 28,
   "metadata": {
    "execution": {
     "iopub.execute_input": "2020-11-15T18:56:07.700452Z",
     "iopub.status.busy": "2020-11-15T18:56:07.692264Z",
     "iopub.status.idle": "2020-11-15T18:56:07.713435Z",
     "shell.execute_reply": "2020-11-15T18:56:07.712657Z"
    },
    "papermill": {
     "duration": 0.108838,
     "end_time": "2020-11-15T18:56:07.713561",
     "exception": false,
     "start_time": "2020-11-15T18:56:07.604723",
     "status": "completed"
    },
    "tags": []
   },
   "outputs": [
    {
     "name": "stdout",
     "output_type": "stream",
     "text": [
      "MAE: 82288.48130449674\n",
      "MSE: 10460818408.276564\n",
      "RMSE: 102278.1423779126\n",
      "R2 Square 0.9176835065552325\n"
     ]
    }
   ],
   "source": [
    "from sklearn.linear_model import Ridge\n",
    "\n",
    "model = Ridge()\n",
    "model.fit(X_train, y_train)\n",
    "pred = model.predict(X_test)\n",
    "\n",
    "print_evaluate(y_test, pred)"
   ]
  },
  {
   "cell_type": "code",
   "execution_count": 29,
   "metadata": {
    "execution": {
     "iopub.execute_input": "2020-11-15T18:56:07.883907Z",
     "iopub.status.busy": "2020-11-15T18:56:07.882743Z",
     "iopub.status.idle": "2020-11-15T18:56:07.963146Z",
     "shell.execute_reply": "2020-11-15T18:56:07.962452Z"
    },
    "papermill": {
     "duration": 0.169197,
     "end_time": "2020-11-15T18:56:07.963278",
     "exception": false,
     "start_time": "2020-11-15T18:56:07.794081",
     "status": "completed"
    },
    "tags": []
   },
   "outputs": [
    {
     "data": {
      "text/html": [
       "<div>\n",
       "<style scoped>\n",
       "    .dataframe tbody tr th:only-of-type {\n",
       "        vertical-align: middle;\n",
       "    }\n",
       "\n",
       "    .dataframe tbody tr th {\n",
       "        vertical-align: top;\n",
       "    }\n",
       "\n",
       "    .dataframe thead th {\n",
       "        text-align: right;\n",
       "    }\n",
       "</style>\n",
       "<table border=\"1\" class=\"dataframe\">\n",
       "  <thead>\n",
       "    <tr style=\"text-align: right;\">\n",
       "      <th></th>\n",
       "      <th>Model</th>\n",
       "      <th>MAE</th>\n",
       "      <th>MSE</th>\n",
       "      <th>RMSE</th>\n",
       "      <th>R2 Square</th>\n",
       "      <th>Cross Validation</th>\n",
       "    </tr>\n",
       "  </thead>\n",
       "  <tbody>\n",
       "    <tr>\n",
       "      <th>0</th>\n",
       "      <td>Linear Regression</td>\n",
       "      <td>82288.222519</td>\n",
       "      <td>1.046096e+10</td>\n",
       "      <td>102278.829223</td>\n",
       "      <td>0.917682</td>\n",
       "      <td>0.917379</td>\n",
       "    </tr>\n",
       "    <tr>\n",
       "      <th>1</th>\n",
       "      <td>Robust Regression</td>\n",
       "      <td>84857.466883</td>\n",
       "      <td>1.114277e+10</td>\n",
       "      <td>105559.324145</td>\n",
       "      <td>0.912317</td>\n",
       "      <td>0.910264</td>\n",
       "    </tr>\n",
       "    <tr>\n",
       "      <th>2</th>\n",
       "      <td>Ridge Regression</td>\n",
       "      <td>82288.481304</td>\n",
       "      <td>1.046082e+10</td>\n",
       "      <td>102278.142378</td>\n",
       "      <td>0.917684</td>\n",
       "      <td>0.917379</td>\n",
       "    </tr>\n",
       "  </tbody>\n",
       "</table>\n",
       "</div>"
      ],
      "text/plain": [
       "               Model           MAE           MSE           RMSE  R2 Square  \\\n",
       "0  Linear Regression  82288.222519  1.046096e+10  102278.829223   0.917682   \n",
       "1  Robust Regression  84857.466883  1.114277e+10  105559.324145   0.912317   \n",
       "2   Ridge Regression  82288.481304  1.046082e+10  102278.142378   0.917684   \n",
       "\n",
       "   Cross Validation  \n",
       "0          0.917379  \n",
       "1          0.910264  \n",
       "2          0.917379  "
      ]
     },
     "execution_count": 29,
     "metadata": {},
     "output_type": "execute_result"
    }
   ],
   "source": [
    "results_df_2 = pd.DataFrame(data=[[\"Ridge Regression\", *evaluate(y_test, pred) , cross_val(Ridge())]], \n",
    "                            columns=['Model', 'MAE', 'MSE', 'RMSE', 'R2 Square', \"Cross Validation\"])\n",
    "results_df = results_df.append(results_df_2, ignore_index=True)\n",
    "results_df"
   ]
  },
  {
   "cell_type": "markdown",
   "metadata": {
    "papermill": {
     "duration": 0.081725,
     "end_time": "2020-11-15T18:56:08.127430",
     "exception": false,
     "start_time": "2020-11-15T18:56:08.045705",
     "status": "completed"
    },
    "tags": []
   },
   "source": [
    "# 4. LASSO Regression"
   ]
  },
  {
   "cell_type": "markdown",
   "metadata": {
    "papermill": {
     "duration": 0.08127,
     "end_time": "2020-11-15T18:56:08.291716",
     "exception": false,
     "start_time": "2020-11-15T18:56:08.210446",
     "status": "completed"
    },
    "tags": []
   },
   "source": [
    "A linear model that estimates sparse coefficients.\n",
    "\n",
    "Mathematically, it consists of a linear model trained with  ℓ1  prior as regularizer. The objective function to minimize is:\n",
    "\n",
    "$ minw12nsamples∣∣∣∣Xw−y∣∣∣∣22+α∣∣∣∣w∣∣∣∣1 $\n",
    " \n",
    "The lasso estimate thus solves the minimization of the least-squares penalty with  α∣∣∣∣w∣∣∣∣1  added, where  α  is a constant and  ∣∣∣∣w∣∣∣∣1  is the  ℓ1−norm  of the parameter vector."
   ]
  },
  {
   "cell_type": "code",
   "execution_count": 30,
   "metadata": {
    "execution": {
     "iopub.execute_input": "2020-11-15T18:56:08.461746Z",
     "iopub.status.busy": "2020-11-15T18:56:08.460987Z",
     "iopub.status.idle": "2020-11-15T18:56:08.473757Z",
     "shell.execute_reply": "2020-11-15T18:56:08.472946Z"
    },
    "papermill": {
     "duration": 0.102186,
     "end_time": "2020-11-15T18:56:08.473914",
     "exception": false,
     "start_time": "2020-11-15T18:56:08.371728",
     "status": "completed"
    },
    "tags": []
   },
   "outputs": [
    {
     "name": "stdout",
     "output_type": "stream",
     "text": [
      "MAE: 82288.19406888579\n",
      "MSE: 10460951134.02753\n",
      "RMSE: 102278.79122294871\n",
      "R2 Square 0.9176824621323219\n"
     ]
    }
   ],
   "source": [
    "from sklearn.linear_model import Lasso\n",
    "\n",
    "model = Lasso()\n",
    "model.fit(X_train,y_train)\n",
    "pred = model.predict(X_test)\n",
    "print_evaluate(y_test,pred)"
   ]
  },
  {
   "cell_type": "code",
   "execution_count": 31,
   "metadata": {
    "execution": {
     "iopub.execute_input": "2020-11-15T18:56:08.648303Z",
     "iopub.status.busy": "2020-11-15T18:56:08.647124Z",
     "iopub.status.idle": "2020-11-15T18:56:08.740305Z",
     "shell.execute_reply": "2020-11-15T18:56:08.739576Z"
    },
    "papermill": {
     "duration": 0.18473,
     "end_time": "2020-11-15T18:56:08.740475",
     "exception": false,
     "start_time": "2020-11-15T18:56:08.555745",
     "status": "completed"
    },
    "tags": []
   },
   "outputs": [
    {
     "data": {
      "text/html": [
       "<div>\n",
       "<style scoped>\n",
       "    .dataframe tbody tr th:only-of-type {\n",
       "        vertical-align: middle;\n",
       "    }\n",
       "\n",
       "    .dataframe tbody tr th {\n",
       "        vertical-align: top;\n",
       "    }\n",
       "\n",
       "    .dataframe thead th {\n",
       "        text-align: right;\n",
       "    }\n",
       "</style>\n",
       "<table border=\"1\" class=\"dataframe\">\n",
       "  <thead>\n",
       "    <tr style=\"text-align: right;\">\n",
       "      <th></th>\n",
       "      <th>Model</th>\n",
       "      <th>MAE</th>\n",
       "      <th>MSE</th>\n",
       "      <th>RMSE</th>\n",
       "      <th>R2 Square</th>\n",
       "      <th>Cross Validation</th>\n",
       "    </tr>\n",
       "  </thead>\n",
       "  <tbody>\n",
       "    <tr>\n",
       "      <th>0</th>\n",
       "      <td>Linear Regression</td>\n",
       "      <td>82288.222519</td>\n",
       "      <td>1.046096e+10</td>\n",
       "      <td>102278.829223</td>\n",
       "      <td>0.917682</td>\n",
       "      <td>0.917379</td>\n",
       "    </tr>\n",
       "    <tr>\n",
       "      <th>1</th>\n",
       "      <td>Robust Regression</td>\n",
       "      <td>84857.466883</td>\n",
       "      <td>1.114277e+10</td>\n",
       "      <td>105559.324145</td>\n",
       "      <td>0.912317</td>\n",
       "      <td>0.910264</td>\n",
       "    </tr>\n",
       "    <tr>\n",
       "      <th>2</th>\n",
       "      <td>Ridge Regression</td>\n",
       "      <td>82288.481304</td>\n",
       "      <td>1.046082e+10</td>\n",
       "      <td>102278.142378</td>\n",
       "      <td>0.917684</td>\n",
       "      <td>0.917379</td>\n",
       "    </tr>\n",
       "    <tr>\n",
       "      <th>3</th>\n",
       "      <td>Lasso Regression</td>\n",
       "      <td>82288.194069</td>\n",
       "      <td>1.046095e+10</td>\n",
       "      <td>102278.791223</td>\n",
       "      <td>0.917682</td>\n",
       "      <td>0.917379</td>\n",
       "    </tr>\n",
       "  </tbody>\n",
       "</table>\n",
       "</div>"
      ],
      "text/plain": [
       "               Model           MAE           MSE           RMSE  R2 Square  \\\n",
       "0  Linear Regression  82288.222519  1.046096e+10  102278.829223   0.917682   \n",
       "1  Robust Regression  84857.466883  1.114277e+10  105559.324145   0.912317   \n",
       "2   Ridge Regression  82288.481304  1.046082e+10  102278.142378   0.917684   \n",
       "3   Lasso Regression  82288.194069  1.046095e+10  102278.791223   0.917682   \n",
       "\n",
       "   Cross Validation  \n",
       "0          0.917379  \n",
       "1          0.910264  \n",
       "2          0.917379  \n",
       "3          0.917379  "
      ]
     },
     "execution_count": 31,
     "metadata": {},
     "output_type": "execute_result"
    }
   ],
   "source": [
    "results_df_2 = pd.DataFrame(data=[[\"Lasso Regression\", *evaluate(y_test, pred) , cross_val(Lasso())]], \n",
    "                            columns=['Model', 'MAE', 'MSE', 'RMSE', 'R2 Square', \"Cross Validation\"])\n",
    "results_df = results_df.append(results_df_2, ignore_index=True)\n",
    "results_df"
   ]
  },
  {
   "cell_type": "markdown",
   "metadata": {
    "papermill": {
     "duration": 0.082949,
     "end_time": "2020-11-15T18:56:08.908397",
     "exception": false,
     "start_time": "2020-11-15T18:56:08.825448",
     "status": "completed"
    },
    "tags": []
   },
   "source": [
    "# 5. Elastic Net"
   ]
  },
  {
   "cell_type": "markdown",
   "metadata": {
    "papermill": {
     "duration": 0.083589,
     "end_time": "2020-11-15T18:56:09.074397",
     "exception": false,
     "start_time": "2020-11-15T18:56:08.990808",
     "status": "completed"
    },
    "tags": []
   },
   "source": [
    "A linear regression model trained with L1 and L2 prior as regularizer.\n",
    "\n",
    "This combination allows for learning a sparse model where few of the weights are non-zero like Lasso, while still maintaining the regularization properties of Ridge.\n",
    "\n",
    "Elastic-net is useful when there are multiple features which are correlated with one another. Lasso is likely to pick one of these at random, while elastic-net is likely to pick both.\n",
    "\n",
    "A practical advantage of trading-off between Lasso and Ridge is it allows Elastic-Net to inherit some of Ridge’s stability under rotation.\n",
    "\n",
    "The objective function to minimize is in this case\n",
    "\n",
    "$ minw12nsamples∣∣∣∣Xw−y∣∣∣∣22+αρ∣∣∣∣w∣∣∣∣1+α(1−ρ)2∣∣∣∣w∣∣∣∣22 $"
   ]
  },
  {
   "cell_type": "code",
   "execution_count": 32,
   "metadata": {
    "execution": {
     "iopub.execute_input": "2020-11-15T18:56:09.249643Z",
     "iopub.status.busy": "2020-11-15T18:56:09.248867Z",
     "iopub.status.idle": "2020-11-15T18:56:09.259957Z",
     "shell.execute_reply": "2020-11-15T18:56:09.259115Z"
    },
    "papermill": {
     "duration": 0.102603,
     "end_time": "2020-11-15T18:56:09.260090",
     "exception": false,
     "start_time": "2020-11-15T18:56:09.157487",
     "status": "completed"
    },
    "tags": []
   },
   "outputs": [
    {
     "name": "stdout",
     "output_type": "stream",
     "text": [
      "MAE: 82288.19406888579\n",
      "MSE: 10460951134.02753\n",
      "RMSE: 102278.79122294871\n",
      "R2 Square 0.9176824621323219\n"
     ]
    }
   ],
   "source": [
    "from sklearn.linear_model import ElasticNet\n",
    "\n",
    "model = ElasticNet()\n",
    "model.fit(X_train,y_train)\n",
    "model.predict(X_test)\n",
    "\n",
    "print_evaluate(y_test,pred)\n",
    "\n"
   ]
  },
  {
   "cell_type": "code",
   "execution_count": 33,
   "metadata": {
    "execution": {
     "iopub.execute_input": "2020-11-15T18:56:09.438747Z",
     "iopub.status.busy": "2020-11-15T18:56:09.436766Z",
     "iopub.status.idle": "2020-11-15T18:56:09.525214Z",
     "shell.execute_reply": "2020-11-15T18:56:09.524498Z"
    },
    "papermill": {
     "duration": 0.182192,
     "end_time": "2020-11-15T18:56:09.525352",
     "exception": false,
     "start_time": "2020-11-15T18:56:09.343160",
     "status": "completed"
    },
    "tags": []
   },
   "outputs": [
    {
     "data": {
      "text/html": [
       "<div>\n",
       "<style scoped>\n",
       "    .dataframe tbody tr th:only-of-type {\n",
       "        vertical-align: middle;\n",
       "    }\n",
       "\n",
       "    .dataframe tbody tr th {\n",
       "        vertical-align: top;\n",
       "    }\n",
       "\n",
       "    .dataframe thead th {\n",
       "        text-align: right;\n",
       "    }\n",
       "</style>\n",
       "<table border=\"1\" class=\"dataframe\">\n",
       "  <thead>\n",
       "    <tr style=\"text-align: right;\">\n",
       "      <th></th>\n",
       "      <th>Model</th>\n",
       "      <th>MAE</th>\n",
       "      <th>MSE</th>\n",
       "      <th>RMSE</th>\n",
       "      <th>R2 Square</th>\n",
       "      <th>Cross Validation</th>\n",
       "    </tr>\n",
       "  </thead>\n",
       "  <tbody>\n",
       "    <tr>\n",
       "      <th>0</th>\n",
       "      <td>Linear Regression</td>\n",
       "      <td>82288.222519</td>\n",
       "      <td>1.046096e+10</td>\n",
       "      <td>102278.829223</td>\n",
       "      <td>0.917682</td>\n",
       "      <td>0.917379</td>\n",
       "    </tr>\n",
       "    <tr>\n",
       "      <th>1</th>\n",
       "      <td>Robust Regression</td>\n",
       "      <td>84857.466883</td>\n",
       "      <td>1.114277e+10</td>\n",
       "      <td>105559.324145</td>\n",
       "      <td>0.912317</td>\n",
       "      <td>0.910264</td>\n",
       "    </tr>\n",
       "    <tr>\n",
       "      <th>2</th>\n",
       "      <td>Ridge Regression</td>\n",
       "      <td>82288.481304</td>\n",
       "      <td>1.046082e+10</td>\n",
       "      <td>102278.142378</td>\n",
       "      <td>0.917684</td>\n",
       "      <td>0.917379</td>\n",
       "    </tr>\n",
       "    <tr>\n",
       "      <th>3</th>\n",
       "      <td>Lasso Regression</td>\n",
       "      <td>82288.194069</td>\n",
       "      <td>1.046095e+10</td>\n",
       "      <td>102278.791223</td>\n",
       "      <td>0.917682</td>\n",
       "      <td>0.917379</td>\n",
       "    </tr>\n",
       "    <tr>\n",
       "      <th>4</th>\n",
       "      <td>Elastic Net Regression</td>\n",
       "      <td>82288.194069</td>\n",
       "      <td>1.046095e+10</td>\n",
       "      <td>102278.791223</td>\n",
       "      <td>0.917682</td>\n",
       "      <td>0.879545</td>\n",
       "    </tr>\n",
       "  </tbody>\n",
       "</table>\n",
       "</div>"
      ],
      "text/plain": [
       "                    Model           MAE           MSE           RMSE  \\\n",
       "0       Linear Regression  82288.222519  1.046096e+10  102278.829223   \n",
       "1       Robust Regression  84857.466883  1.114277e+10  105559.324145   \n",
       "2        Ridge Regression  82288.481304  1.046082e+10  102278.142378   \n",
       "3        Lasso Regression  82288.194069  1.046095e+10  102278.791223   \n",
       "4  Elastic Net Regression  82288.194069  1.046095e+10  102278.791223   \n",
       "\n",
       "   R2 Square  Cross Validation  \n",
       "0   0.917682          0.917379  \n",
       "1   0.912317          0.910264  \n",
       "2   0.917684          0.917379  \n",
       "3   0.917682          0.917379  \n",
       "4   0.917682          0.879545  "
      ]
     },
     "execution_count": 33,
     "metadata": {},
     "output_type": "execute_result"
    }
   ],
   "source": [
    "results_df_2 = pd.DataFrame(data=[[\"Elastic Net Regression\", *evaluate(y_test, pred) , cross_val(ElasticNet())]], \n",
    "                            columns=['Model', 'MAE', 'MSE', 'RMSE', 'R2 Square', \"Cross Validation\"])\n",
    "results_df = results_df.append(results_df_2, ignore_index=True)\n",
    "results_df"
   ]
  },
  {
   "cell_type": "markdown",
   "metadata": {
    "papermill": {
     "duration": 0.083518,
     "end_time": "2020-11-15T18:56:09.692819",
     "exception": false,
     "start_time": "2020-11-15T18:56:09.609301",
     "status": "completed"
    },
    "tags": []
   },
   "source": [
    "# 6. Polynomial Regression"
   ]
  },
  {
   "cell_type": "markdown",
   "metadata": {
    "papermill": {
     "duration": 0.100219,
     "end_time": "2020-11-15T18:56:09.888237",
     "exception": false,
     "start_time": "2020-11-15T18:56:09.788018",
     "status": "completed"
    },
    "tags": []
   },
   "source": [
    "One common pattern within machine learning is to use linear models trained on nonlinear functions of the data. This approach maintains the generally fast performance of linear methods, while allowing them to fit a much wider range of data.\n",
    "\n",
    "For example, a simple linear regression can be extended by constructing polynomial features from the coefficients. In the standard linear regression case, you might have a model that looks like this for two-dimensional data:\n",
    "\n",
    "$ y^(w,x)=w0+w1x1+w2x2 $\n",
    " \n",
    "If we want to fit a paraboloid to the data instead of a plane, we can combine the features in second-order polynomials, so that the model looks like this:\n",
    "\n",
    "$ y^(w,x)=w0+w1x1+w2x2+w3x1x2+w4x21+w5x22 $\n",
    " \n",
    "The (sometimes surprising) observation is that this is still a linear model: to see this, imagine creating a new variable\n",
    "\n",
    "$ z=[x1,x2,x1x2,x21,x22] $\n",
    " \n",
    "With this re-labeling of the data, our problem can be written\n",
    "\n",
    "$ y^(w,x)=w0+w1z1+w2z2+w3z3+w4z4+w5z5 $\n",
    " \n",
    "We see that the resulting polynomial regression is in the same class of linear models we’d considered above (i.e. the model is linear in w) and can be solved by the same techniques. By considering linear fits within a higher-dimensional space built with these basis functions, the model has the flexibility to fit a much broader range of data."
   ]
  },
  {
   "cell_type": "code",
   "execution_count": 34,
   "metadata": {
    "execution": {
     "iopub.execute_input": "2020-11-15T18:56:10.070182Z",
     "iopub.status.busy": "2020-11-15T18:56:10.069063Z",
     "iopub.status.idle": "2020-11-15T18:56:10.090626Z",
     "shell.execute_reply": "2020-11-15T18:56:10.089964Z"
    },
    "papermill": {
     "duration": 0.118054,
     "end_time": "2020-11-15T18:56:10.090766",
     "exception": false,
     "start_time": "2020-11-15T18:56:09.972712",
     "status": "completed"
    },
    "tags": []
   },
   "outputs": [
    {
     "name": "stdout",
     "output_type": "stream",
     "text": [
      "MAE: 82695.74508000484\n",
      "MSE: 10556860761.229305\n",
      "RMSE: 102746.58515604938\n",
      "R2 Square 0.916927746402566\n"
     ]
    }
   ],
   "source": [
    "from sklearn.preprocessing import PolynomialFeatures\n",
    "\n",
    "poly_reg = PolynomialFeatures(degree=2)\n",
    "X_poly = poly_reg.fit_transform(X)\n",
    "\n",
    "X_train, X_test, y_train, y_test = train_test_split(X_poly, y, test_size=0.4, random_state=101)\n",
    "\n",
    "lin_reg = LinearRegression(normalize=True)\n",
    "lin_reg.fit(X_train,y_train)\n",
    "pred = lin_reg.predict(X_test)\n",
    "\n",
    "print_evaluate(y_test, pred)\n"
   ]
  },
  {
   "cell_type": "code",
   "execution_count": 35,
   "metadata": {
    "execution": {
     "iopub.execute_input": "2020-11-15T18:56:10.284184Z",
     "iopub.status.busy": "2020-11-15T18:56:10.269148Z",
     "iopub.status.idle": "2020-11-15T18:56:10.289439Z",
     "shell.execute_reply": "2020-11-15T18:56:10.288655Z"
    },
    "papermill": {
     "duration": 0.114052,
     "end_time": "2020-11-15T18:56:10.289567",
     "exception": false,
     "start_time": "2020-11-15T18:56:10.175515",
     "status": "completed"
    },
    "tags": []
   },
   "outputs": [
    {
     "data": {
      "text/html": [
       "<div>\n",
       "<style scoped>\n",
       "    .dataframe tbody tr th:only-of-type {\n",
       "        vertical-align: middle;\n",
       "    }\n",
       "\n",
       "    .dataframe tbody tr th {\n",
       "        vertical-align: top;\n",
       "    }\n",
       "\n",
       "    .dataframe thead th {\n",
       "        text-align: right;\n",
       "    }\n",
       "</style>\n",
       "<table border=\"1\" class=\"dataframe\">\n",
       "  <thead>\n",
       "    <tr style=\"text-align: right;\">\n",
       "      <th></th>\n",
       "      <th>Model</th>\n",
       "      <th>MAE</th>\n",
       "      <th>MSE</th>\n",
       "      <th>RMSE</th>\n",
       "      <th>R2 Square</th>\n",
       "      <th>Cross Validation</th>\n",
       "    </tr>\n",
       "  </thead>\n",
       "  <tbody>\n",
       "    <tr>\n",
       "      <th>0</th>\n",
       "      <td>Linear Regression</td>\n",
       "      <td>82288.222519</td>\n",
       "      <td>1.046096e+10</td>\n",
       "      <td>102278.829223</td>\n",
       "      <td>0.917682</td>\n",
       "      <td>0.917379</td>\n",
       "    </tr>\n",
       "    <tr>\n",
       "      <th>1</th>\n",
       "      <td>Robust Regression</td>\n",
       "      <td>84857.466883</td>\n",
       "      <td>1.114277e+10</td>\n",
       "      <td>105559.324145</td>\n",
       "      <td>0.912317</td>\n",
       "      <td>0.910264</td>\n",
       "    </tr>\n",
       "    <tr>\n",
       "      <th>2</th>\n",
       "      <td>Ridge Regression</td>\n",
       "      <td>82288.481304</td>\n",
       "      <td>1.046082e+10</td>\n",
       "      <td>102278.142378</td>\n",
       "      <td>0.917684</td>\n",
       "      <td>0.917379</td>\n",
       "    </tr>\n",
       "    <tr>\n",
       "      <th>3</th>\n",
       "      <td>Lasso Regression</td>\n",
       "      <td>82288.194069</td>\n",
       "      <td>1.046095e+10</td>\n",
       "      <td>102278.791223</td>\n",
       "      <td>0.917682</td>\n",
       "      <td>0.917379</td>\n",
       "    </tr>\n",
       "    <tr>\n",
       "      <th>4</th>\n",
       "      <td>Elastic Net Regression</td>\n",
       "      <td>82288.194069</td>\n",
       "      <td>1.046095e+10</td>\n",
       "      <td>102278.791223</td>\n",
       "      <td>0.917682</td>\n",
       "      <td>0.879545</td>\n",
       "    </tr>\n",
       "    <tr>\n",
       "      <th>5</th>\n",
       "      <td>Polynomail Regression</td>\n",
       "      <td>82695.745080</td>\n",
       "      <td>1.055686e+10</td>\n",
       "      <td>102746.585156</td>\n",
       "      <td>0.916928</td>\n",
       "      <td>0.000000</td>\n",
       "    </tr>\n",
       "  </tbody>\n",
       "</table>\n",
       "</div>"
      ],
      "text/plain": [
       "                    Model           MAE           MSE           RMSE  \\\n",
       "0       Linear Regression  82288.222519  1.046096e+10  102278.829223   \n",
       "1       Robust Regression  84857.466883  1.114277e+10  105559.324145   \n",
       "2        Ridge Regression  82288.481304  1.046082e+10  102278.142378   \n",
       "3        Lasso Regression  82288.194069  1.046095e+10  102278.791223   \n",
       "4  Elastic Net Regression  82288.194069  1.046095e+10  102278.791223   \n",
       "5   Polynomail Regression  82695.745080  1.055686e+10  102746.585156   \n",
       "\n",
       "   R2 Square  Cross Validation  \n",
       "0   0.917682          0.917379  \n",
       "1   0.912317          0.910264  \n",
       "2   0.917684          0.917379  \n",
       "3   0.917682          0.917379  \n",
       "4   0.917682          0.879545  \n",
       "5   0.916928          0.000000  "
      ]
     },
     "execution_count": 35,
     "metadata": {},
     "output_type": "execute_result"
    }
   ],
   "source": [
    "results_df_2 = pd.DataFrame(data=[[\"Polynomail Regression\", *evaluate(y_test, pred), 0]], \n",
    "                            columns=['Model', 'MAE', 'MSE', 'RMSE', 'R2 Square', 'Cross Validation'])\n",
    "results_df = results_df.append(results_df_2, ignore_index=True)\n",
    "results_df"
   ]
  },
  {
   "cell_type": "markdown",
   "metadata": {
    "papermill": {
     "duration": 0.092616,
     "end_time": "2020-11-15T18:56:10.468146",
     "exception": false,
     "start_time": "2020-11-15T18:56:10.375530",
     "status": "completed"
    },
    "tags": []
   },
   "source": [
    "# 7. Random Forest Regressor"
   ]
  },
  {
   "cell_type": "code",
   "execution_count": 36,
   "metadata": {
    "execution": {
     "iopub.execute_input": "2020-11-15T18:56:10.644601Z",
     "iopub.status.busy": "2020-11-15T18:56:10.643878Z",
     "iopub.status.idle": "2020-11-15T18:56:14.752933Z",
     "shell.execute_reply": "2020-11-15T18:56:14.752106Z"
    },
    "papermill": {
     "duration": 4.200366,
     "end_time": "2020-11-15T18:56:14.753072",
     "exception": false,
     "start_time": "2020-11-15T18:56:10.552706",
     "status": "completed"
    },
    "tags": []
   },
   "outputs": [
    {
     "name": "stdout",
     "output_type": "stream",
     "text": [
      "MAE: 89155.26743764358\n",
      "MSE: 12438615343.719213\n",
      "RMSE: 111528.54048950526\n",
      "R2 Square 0.9021201632184783\n"
     ]
    },
    {
     "data": {
      "text/plain": [
       "0.8845591405699031"
      ]
     },
     "execution_count": 36,
     "metadata": {},
     "output_type": "execute_result"
    }
   ],
   "source": [
    "from sklearn.ensemble import RandomForestRegressor\n",
    "from sklearn.metrics import r2_score\n",
    "\n",
    "model = RandomForestRegressor()\n",
    "model.fit(X_train, y_train)\n",
    "\n",
    "pred = model.predict(X_test)\n",
    "\n",
    "# Scoring the Random Forest Regression\n",
    "\n",
    "print_evaluate(y_test,pred)\n",
    "\n",
    "random_r2_score = r2_score(model.predict(X_test), y_test)\n",
    "random_r2_score"
   ]
  },
  {
   "cell_type": "code",
   "execution_count": 37,
   "metadata": {
    "execution": {
     "iopub.execute_input": "2020-11-15T18:56:14.937534Z",
     "iopub.status.busy": "2020-11-15T18:56:14.936250Z",
     "iopub.status.idle": "2020-11-15T18:56:33.963406Z",
     "shell.execute_reply": "2020-11-15T18:56:33.962702Z"
    },
    "papermill": {
     "duration": 19.122374,
     "end_time": "2020-11-15T18:56:33.963549",
     "exception": false,
     "start_time": "2020-11-15T18:56:14.841175",
     "status": "completed"
    },
    "tags": []
   },
   "outputs": [
    {
     "data": {
      "text/html": [
       "<div>\n",
       "<style scoped>\n",
       "    .dataframe tbody tr th:only-of-type {\n",
       "        vertical-align: middle;\n",
       "    }\n",
       "\n",
       "    .dataframe tbody tr th {\n",
       "        vertical-align: top;\n",
       "    }\n",
       "\n",
       "    .dataframe thead th {\n",
       "        text-align: right;\n",
       "    }\n",
       "</style>\n",
       "<table border=\"1\" class=\"dataframe\">\n",
       "  <thead>\n",
       "    <tr style=\"text-align: right;\">\n",
       "      <th></th>\n",
       "      <th>Model</th>\n",
       "      <th>MAE</th>\n",
       "      <th>MSE</th>\n",
       "      <th>RMSE</th>\n",
       "      <th>R2 Square</th>\n",
       "      <th>Cross Validation</th>\n",
       "    </tr>\n",
       "  </thead>\n",
       "  <tbody>\n",
       "    <tr>\n",
       "      <th>0</th>\n",
       "      <td>Linear Regression</td>\n",
       "      <td>82288.222519</td>\n",
       "      <td>1.046096e+10</td>\n",
       "      <td>102278.829223</td>\n",
       "      <td>0.917682</td>\n",
       "      <td>0.917379</td>\n",
       "    </tr>\n",
       "    <tr>\n",
       "      <th>1</th>\n",
       "      <td>Robust Regression</td>\n",
       "      <td>84857.466883</td>\n",
       "      <td>1.114277e+10</td>\n",
       "      <td>105559.324145</td>\n",
       "      <td>0.912317</td>\n",
       "      <td>0.910264</td>\n",
       "    </tr>\n",
       "    <tr>\n",
       "      <th>2</th>\n",
       "      <td>Ridge Regression</td>\n",
       "      <td>82288.481304</td>\n",
       "      <td>1.046082e+10</td>\n",
       "      <td>102278.142378</td>\n",
       "      <td>0.917684</td>\n",
       "      <td>0.917379</td>\n",
       "    </tr>\n",
       "    <tr>\n",
       "      <th>3</th>\n",
       "      <td>Lasso Regression</td>\n",
       "      <td>82288.194069</td>\n",
       "      <td>1.046095e+10</td>\n",
       "      <td>102278.791223</td>\n",
       "      <td>0.917682</td>\n",
       "      <td>0.917379</td>\n",
       "    </tr>\n",
       "    <tr>\n",
       "      <th>4</th>\n",
       "      <td>Elastic Net Regression</td>\n",
       "      <td>82288.194069</td>\n",
       "      <td>1.046095e+10</td>\n",
       "      <td>102278.791223</td>\n",
       "      <td>0.917682</td>\n",
       "      <td>0.879545</td>\n",
       "    </tr>\n",
       "    <tr>\n",
       "      <th>5</th>\n",
       "      <td>Polynomail Regression</td>\n",
       "      <td>82695.745080</td>\n",
       "      <td>1.055686e+10</td>\n",
       "      <td>102746.585156</td>\n",
       "      <td>0.916928</td>\n",
       "      <td>0.000000</td>\n",
       "    </tr>\n",
       "    <tr>\n",
       "      <th>6</th>\n",
       "      <td>Random Forest Regressor</td>\n",
       "      <td>89155.267438</td>\n",
       "      <td>1.243862e+10</td>\n",
       "      <td>111528.540490</td>\n",
       "      <td>0.902120</td>\n",
       "      <td>0.885423</td>\n",
       "    </tr>\n",
       "  </tbody>\n",
       "</table>\n",
       "</div>"
      ],
      "text/plain": [
       "                     Model           MAE           MSE           RMSE  \\\n",
       "0        Linear Regression  82288.222519  1.046096e+10  102278.829223   \n",
       "1        Robust Regression  84857.466883  1.114277e+10  105559.324145   \n",
       "2         Ridge Regression  82288.481304  1.046082e+10  102278.142378   \n",
       "3         Lasso Regression  82288.194069  1.046095e+10  102278.791223   \n",
       "4   Elastic Net Regression  82288.194069  1.046095e+10  102278.791223   \n",
       "5    Polynomail Regression  82695.745080  1.055686e+10  102746.585156   \n",
       "6  Random Forest Regressor  89155.267438  1.243862e+10  111528.540490   \n",
       "\n",
       "   R2 Square  Cross Validation  \n",
       "0   0.917682          0.917379  \n",
       "1   0.912317          0.910264  \n",
       "2   0.917684          0.917379  \n",
       "3   0.917682          0.917379  \n",
       "4   0.917682          0.879545  \n",
       "5   0.916928          0.000000  \n",
       "6   0.902120          0.885423  "
      ]
     },
     "execution_count": 37,
     "metadata": {},
     "output_type": "execute_result"
    }
   ],
   "source": [
    "results_df_2 = pd.DataFrame(data=[[\"Random Forest Regressor\", *evaluate(y_test, pred),cross_val(RandomForestRegressor()) ]], \n",
    "                            columns=['Model', 'MAE', 'MSE', 'RMSE', 'R2 Square', 'Cross Validation'])\n",
    "results_df = results_df.append(results_df_2, ignore_index=True)\n",
    "results_df"
   ]
  },
  {
   "cell_type": "markdown",
   "metadata": {
    "papermill": {
     "duration": 0.092768,
     "end_time": "2020-11-15T18:56:34.145178",
     "exception": false,
     "start_time": "2020-11-15T18:56:34.052410",
     "status": "completed"
    },
    "tags": []
   },
   "source": [
    "# 8. Decision Tree Model"
   ]
  },
  {
   "cell_type": "code",
   "execution_count": 38,
   "metadata": {
    "execution": {
     "iopub.execute_input": "2020-11-15T18:56:34.352011Z",
     "iopub.status.busy": "2020-11-15T18:56:34.351161Z",
     "iopub.status.idle": "2020-11-15T18:56:34.453437Z",
     "shell.execute_reply": "2020-11-15T18:56:34.454773Z"
    },
    "papermill": {
     "duration": 0.210666,
     "end_time": "2020-11-15T18:56:34.455043",
     "exception": false,
     "start_time": "2020-11-15T18:56:34.244377",
     "status": "completed"
    },
    "tags": []
   },
   "outputs": [
    {
     "name": "stdout",
     "output_type": "stream",
     "text": [
      "MAE: 126280.67764950907\n",
      "MSE: 25996997835.803566\n",
      "RMSE: 161235.84538124135\n",
      "R2 Square 0.7954288451999689\n"
     ]
    },
    {
     "data": {
      "text/plain": [
       "0.7874710181128726"
      ]
     },
     "execution_count": 38,
     "metadata": {},
     "output_type": "execute_result"
    }
   ],
   "source": [
    "from sklearn import tree\n",
    "\n",
    "model = tree.DecisionTreeRegressor()\n",
    "\n",
    "model.fit(X_train,y_train)\n",
    "\n",
    "pred = model.predict(X_test)\n",
    "\n",
    "print_evaluate(y_test,pred)\n",
    "\n",
    "# checking R2 score\n",
    "\n",
    "tree_r2_score = r2_score(model.predict(X_test),y_test)\n",
    "tree_r2_score\n"
   ]
  },
  {
   "cell_type": "code",
   "execution_count": 39,
   "metadata": {
    "execution": {
     "iopub.execute_input": "2020-11-15T18:56:34.688587Z",
     "iopub.status.busy": "2020-11-15T18:56:34.687707Z",
     "iopub.status.idle": "2020-11-15T18:56:35.053017Z",
     "shell.execute_reply": "2020-11-15T18:56:35.052081Z"
    },
    "papermill": {
     "duration": 0.468646,
     "end_time": "2020-11-15T18:56:35.053148",
     "exception": false,
     "start_time": "2020-11-15T18:56:34.584502",
     "status": "completed"
    },
    "tags": []
   },
   "outputs": [
    {
     "data": {
      "text/html": [
       "<div>\n",
       "<style scoped>\n",
       "    .dataframe tbody tr th:only-of-type {\n",
       "        vertical-align: middle;\n",
       "    }\n",
       "\n",
       "    .dataframe tbody tr th {\n",
       "        vertical-align: top;\n",
       "    }\n",
       "\n",
       "    .dataframe thead th {\n",
       "        text-align: right;\n",
       "    }\n",
       "</style>\n",
       "<table border=\"1\" class=\"dataframe\">\n",
       "  <thead>\n",
       "    <tr style=\"text-align: right;\">\n",
       "      <th></th>\n",
       "      <th>Model</th>\n",
       "      <th>MAE</th>\n",
       "      <th>MSE</th>\n",
       "      <th>RMSE</th>\n",
       "      <th>R2 Square</th>\n",
       "      <th>Cross Validation</th>\n",
       "    </tr>\n",
       "  </thead>\n",
       "  <tbody>\n",
       "    <tr>\n",
       "      <th>0</th>\n",
       "      <td>Linear Regression</td>\n",
       "      <td>82288.222519</td>\n",
       "      <td>1.046096e+10</td>\n",
       "      <td>102278.829223</td>\n",
       "      <td>0.917682</td>\n",
       "      <td>0.917379</td>\n",
       "    </tr>\n",
       "    <tr>\n",
       "      <th>1</th>\n",
       "      <td>Robust Regression</td>\n",
       "      <td>84857.466883</td>\n",
       "      <td>1.114277e+10</td>\n",
       "      <td>105559.324145</td>\n",
       "      <td>0.912317</td>\n",
       "      <td>0.910264</td>\n",
       "    </tr>\n",
       "    <tr>\n",
       "      <th>2</th>\n",
       "      <td>Ridge Regression</td>\n",
       "      <td>82288.481304</td>\n",
       "      <td>1.046082e+10</td>\n",
       "      <td>102278.142378</td>\n",
       "      <td>0.917684</td>\n",
       "      <td>0.917379</td>\n",
       "    </tr>\n",
       "    <tr>\n",
       "      <th>3</th>\n",
       "      <td>Lasso Regression</td>\n",
       "      <td>82288.194069</td>\n",
       "      <td>1.046095e+10</td>\n",
       "      <td>102278.791223</td>\n",
       "      <td>0.917682</td>\n",
       "      <td>0.917379</td>\n",
       "    </tr>\n",
       "    <tr>\n",
       "      <th>4</th>\n",
       "      <td>Elastic Net Regression</td>\n",
       "      <td>82288.194069</td>\n",
       "      <td>1.046095e+10</td>\n",
       "      <td>102278.791223</td>\n",
       "      <td>0.917682</td>\n",
       "      <td>0.879545</td>\n",
       "    </tr>\n",
       "    <tr>\n",
       "      <th>5</th>\n",
       "      <td>Polynomail Regression</td>\n",
       "      <td>82695.745080</td>\n",
       "      <td>1.055686e+10</td>\n",
       "      <td>102746.585156</td>\n",
       "      <td>0.916928</td>\n",
       "      <td>0.000000</td>\n",
       "    </tr>\n",
       "    <tr>\n",
       "      <th>6</th>\n",
       "      <td>Random Forest Regressor</td>\n",
       "      <td>89155.267438</td>\n",
       "      <td>1.243862e+10</td>\n",
       "      <td>111528.540490</td>\n",
       "      <td>0.902120</td>\n",
       "      <td>0.885423</td>\n",
       "    </tr>\n",
       "    <tr>\n",
       "      <th>7</th>\n",
       "      <td>Decision Tree Regression</td>\n",
       "      <td>126280.677650</td>\n",
       "      <td>2.599700e+10</td>\n",
       "      <td>161235.845381</td>\n",
       "      <td>0.795429</td>\n",
       "      <td>0.749802</td>\n",
       "    </tr>\n",
       "  </tbody>\n",
       "</table>\n",
       "</div>"
      ],
      "text/plain": [
       "                      Model            MAE           MSE           RMSE  \\\n",
       "0         Linear Regression   82288.222519  1.046096e+10  102278.829223   \n",
       "1         Robust Regression   84857.466883  1.114277e+10  105559.324145   \n",
       "2          Ridge Regression   82288.481304  1.046082e+10  102278.142378   \n",
       "3          Lasso Regression   82288.194069  1.046095e+10  102278.791223   \n",
       "4    Elastic Net Regression   82288.194069  1.046095e+10  102278.791223   \n",
       "5     Polynomail Regression   82695.745080  1.055686e+10  102746.585156   \n",
       "6   Random Forest Regressor   89155.267438  1.243862e+10  111528.540490   \n",
       "7  Decision Tree Regression  126280.677650  2.599700e+10  161235.845381   \n",
       "\n",
       "   R2 Square  Cross Validation  \n",
       "0   0.917682          0.917379  \n",
       "1   0.912317          0.910264  \n",
       "2   0.917684          0.917379  \n",
       "3   0.917682          0.917379  \n",
       "4   0.917682          0.879545  \n",
       "5   0.916928          0.000000  \n",
       "6   0.902120          0.885423  \n",
       "7   0.795429          0.749802  "
      ]
     },
     "execution_count": 39,
     "metadata": {},
     "output_type": "execute_result"
    }
   ],
   "source": [
    "results_df_2 = pd.DataFrame(data=[[\"Decision Tree Regression\", *evaluate(y_test, pred), cross_val(tree.DecisionTreeRegressor())]], \n",
    "                            columns=['Model', 'MAE', 'MSE', 'RMSE', 'R2 Square', 'Cross Validation'])\n",
    "results_df = results_df.append(results_df_2, ignore_index=True)\n",
    "results_df"
   ]
  },
  {
   "cell_type": "markdown",
   "metadata": {
    "papermill": {
     "duration": 0.088016,
     "end_time": "2020-11-15T18:56:35.230165",
     "exception": false,
     "start_time": "2020-11-15T18:56:35.142149",
     "status": "completed"
    },
    "tags": []
   },
   "source": [
    "# Summary"
   ]
  },
  {
   "cell_type": "markdown",
   "metadata": {
    "papermill": {
     "duration": 0.08955,
     "end_time": "2020-11-15T18:56:35.409102",
     "exception": false,
     "start_time": "2020-11-15T18:56:35.319552",
     "status": "completed"
    },
    "tags": []
   },
   "source": [
    "In this notebook you discovered the linear regression algorithm for machine learning.\n",
    "\n",
    "You covered a lot of ground including:\n",
    "\n",
    "The common linear regression models (Ridge, Lasso, ElasticNet, ...).\n",
    "The representation used by the model.\n",
    "Learning algorithms used to estimate the coefficients in the model.\n",
    "Rules of thumb to consider when preparing data for use with linear regression.\n",
    "How to evaluate a linear regression model."
   ]
  }
 ],
 "metadata": {
  "kernelspec": {
   "display_name": "Python 3",
   "language": "python",
   "name": "python3"
  },
  "language_info": {
   "codemirror_mode": {
    "name": "ipython",
    "version": 3
   },
   "file_extension": ".py",
   "mimetype": "text/x-python",
   "name": "python",
   "nbconvert_exporter": "python",
   "pygments_lexer": "ipython3",
   "version": "3.7.6"
  },
  "papermill": {
   "duration": 56.919729,
   "end_time": "2020-11-15T18:56:35.606143",
   "environment_variables": {},
   "exception": null,
   "input_path": "__notebook__.ipynb",
   "output_path": "__notebook__.ipynb",
   "parameters": {},
   "start_time": "2020-11-15T18:55:38.686414",
   "version": "2.1.0"
  }
 },
 "nbformat": 4,
 "nbformat_minor": 4
}
